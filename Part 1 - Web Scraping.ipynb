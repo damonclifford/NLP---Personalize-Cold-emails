{
 "cells": [
  {
   "cell_type": "markdown",
   "metadata": {},
   "source": [
    "<h1>Web Scraping</h1>"
   ]
  },
  {
   "cell_type": "code",
   "execution_count": 1,
   "metadata": {},
   "outputs": [],
   "source": [
    "#Load required packages\n",
    "import requests\n",
    "from bs4 import BeautifulSoup\n",
    "import pickle\n",
    "\n",
    "import re\n",
    "import string"
   ]
  },
  {
   "cell_type": "code",
   "execution_count": 2,
   "metadata": {},
   "outputs": [],
   "source": [
    "#Article URLs for the project\n",
    "url = ['https://www.retaildive.com/news/walmart-adds-nearly-4k-robots-to-stores/552444/',\n",
    "'https://www.retaildive.com/news/walgreens-boots-alliances-heavy-focus-on-digitalization-to-save-up-to-600/552140/',\n",
    "'https://www.retaildive.com/news/how-dicks-sporting-goods-cto-will-revamp-athletic-e-commerce/551839/',\n",
    "'https://www.retaildive.com/news/asos-dunkin-boost-engagement-with-poll-stickers-on-instagram-stories-ads/551438/',\n",
    "'https://www.retaildive.com/news/study-93-of-companies-with-a-personalization-strategy-boost-revenue/550568/',\n",
    "'https://www.retaildive.com/news/joann-fills-cio-role-ahead-of-in-store-technology-push/551007/',\n",
    "'https://www.retaildive.com/news/macys-to-outsource-it-unit/550707/',\n",
    "'https://www.retaildive.com/news/ascena-debuts-cross-brand-loyalty-program/552027/',\n",
    "'https://www.retaildive.com/news/reebok-kicks-up-1st-loyalty-program/551937/',\n",
    "'https://www.retaildive.com/news/adidas-inks-beyonce-partnership-ivy-park-relaunch/552134/',\n",
    "'https://www.retaildive.com/news/sephora-launches-store-branded-credit-card-program/550554/',\n",
    "'https://www.retaildive.com/news/bed-bath-beyond-reportedly-lays-off-almost-150/551625/',\n",
    "'https://www.retaildive.com/news/macys-hires-first-chief-supply-chain-officer-Dennis-Mullahy/551847/',\n",
    "'https://www.retaildive.com/news/walmart-on-time-in-full-87-suppliers/550102/',\n",
    "'https://www.retaildive.com/news/advanced-analytics-inventory-challenges-overbuying-underbuying/548827/',\n",
    "'https://www.retaildive.com/news/levi-strauss-appoints-an-artificial-intelligence-officer/548964/',\n",
    "'https://www.retaildive.com/news/gartner-5g-will-drive-100m-people-to-shop-in-ar-by-next-year/551940/',\n",
    "'https://www.retaildive.com/news/macys-to-cut-roughly-100-executive-jobs/549236/',\n",
    "'https://www.retaildive.com/news/family-dollar-to-close-nearly-400-stores/549865/',\n",
    "'https://www.retaildive.com/news/michaels-losing-market-share-in-crafts/550804/',\n",
    "'https://www.retaildive.com/news/macys-to-outsource-it-unit/550707/',\n",
    "'https://www.retaildive.com/news/ulta-banks-on-exclusives-to-fuel-growth-after-earnings-beat/550603/',\n",
    "'https://www.retaildive.com/news/reuters-pier-1-takes-further-steps-to-manage-debt/550591/',\n",
    "'https://www.retaildive.com/news/chicos-appoints-nordstrom-veteran-as-president/549921/',\n",
    "'https://www.retaildive.com/news/j-crew-resets-turnaround-again/550997/',\n",
    "'https://www.retaildive.com/news/gamestop-lost-673m-last-year/551915/',\n",
    "'https://www.retaildive.com/news/freds-shuttering-159-stores/552636/',\n",
    "'https://www.supplychaindive.com/news/walgreens-hires-chief-supply-chain-officer/553557/',\n",
    "'https://www.supplychaindive.com/news/predictive-analytics-operations-growth-MHI/552709/',\n",
    "'https://www.supplychaindive.com/news/ibm-blockchain-for-food-gains-major-us-grocer/552647/',\n",
    "'https://www.supplychaindive.com/news/rfid-tags-deliver-97-stock-accuracy-for-river-island/552263/',\n",
    "'https://www.supplychaindive.com/news/track-trace-supply-chain-iot-spending/551751/',      \n",
    "'https://www.retaildive.com/news/price-and-rewards-are-crucial-to-gen-zers-and-young-millennials/549166/',\n",
    "'https://www.retaildive.com/news/lululemon-flexes-on-plans-for-a-50-digital-business/551473/',\n",
    "'https://www.retaildive.com/news/techstyle-claims-more-than-5m-active-members/549193/',\n",
    "'https://www.retaildive.com/news/ace-hardware-adds-deliver-from-store-options/552641/',\n",
    "'https://www.retaildive.com/news/chicos-to-launch-online-lingerie-brand-targeting-millennials/552560/',\n",
    "'https://www.retaildive.com/news/ross-president-and-coo-resigns/552637/',\n",
    "'https://www.retaildive.com/news/retailers-struggle-inventory-forecasting/552739/',\n",
    "'https://www.retaildive.com/news/best-buy-names-new-ceo/552740/',\n",
    "'https://www.retaildive.com/news/j-crew-mulls-ipo-for-madewell-brand/552633/',\n",
    "'https://www.retaildive.com/news/destination-maternity-margins-shrink/552835/',\n",
    "'https://www.retaildive.com/news/diesel-usa-files-chapter-11/549799/',\n",
    "'https://www.retaildive.com/news/neiman-marcus-takes-minority-stake-in-resale-site-fashionphile/552936/',\n",
    "'https://www.retaildive.com/news/walgreens-taps-narvar-for-online-pickup-returns-in-8k-stores/552958/',\n",
    "'https://www.retaildive.com/news/pier-1-appoints-interim-cfo-amid-growing-financial-loss/553038/',\n",
    "'https://www.retaildive.com/news/ulta-lands-exclusive-deal-with-dtc-brand-madison-reed/553305/',\n",
    "'https://www.retaildive.com/news/retail-hiring-fell-81-in-2018/553272/',\n",
    "'https://www.retaildive.com/news/forever-21-shutting-down-chinese-e-commerce-site/553526/',\n",
    "'https://www.marketingdive.com/news/kfc-releases-sexy-mothers-day-video/553515/',\n",
    "'https://www.marketingdive.com/news/heineken-taps-the-office-stars-to-push-new-non-alcoholic-beer/553436/',\n",
    "'https://www.marketingdive.com/news/chipotle-doubles-digital-sales-in-1-quarter/553455/',\n",
    "'https://www.marketingdive.com/news/having-to-share-personal-data-turns-consumers-away-from-loyalty-programs-s/552921/',\n",
    "'https://www.retaildive.com/news/walmart-reveals-1st-intelligent-lab-store/553571/',\n",
    "'https://www.retaildive.com/news/fabletics-opens-nyc-pop-up/553463/',\n",
    "'https://www.retaildive.com/news/lululemon-wants-to-double-mens-and-digital-by-2023/553445/',\n",
    "'https://www.retaildive.com/news/rtw-retailwinds-joins-online-lingerie-war/553451/']"
   ]
  },
  {
   "cell_type": "code",
   "execution_count": 3,
   "metadata": {},
   "outputs": [
    {
     "name": "stdout",
     "output_type": "stream",
     "text": [
      "https://www.retaildive.com/news/walmart-adds-nearly-4k-robots-to-stores/552444/\n",
      "https://www.retaildive.com/news/walgreens-boots-alliances-heavy-focus-on-digitalization-to-save-up-to-600/552140/\n",
      "https://www.retaildive.com/news/how-dicks-sporting-goods-cto-will-revamp-athletic-e-commerce/551839/\n",
      "https://www.retaildive.com/news/asos-dunkin-boost-engagement-with-poll-stickers-on-instagram-stories-ads/551438/\n",
      "https://www.retaildive.com/news/study-93-of-companies-with-a-personalization-strategy-boost-revenue/550568/\n",
      "https://www.retaildive.com/news/joann-fills-cio-role-ahead-of-in-store-technology-push/551007/\n",
      "https://www.retaildive.com/news/macys-to-outsource-it-unit/550707/\n",
      "https://www.retaildive.com/news/ascena-debuts-cross-brand-loyalty-program/552027/\n",
      "https://www.retaildive.com/news/reebok-kicks-up-1st-loyalty-program/551937/\n",
      "https://www.retaildive.com/news/adidas-inks-beyonce-partnership-ivy-park-relaunch/552134/\n",
      "https://www.retaildive.com/news/sephora-launches-store-branded-credit-card-program/550554/\n",
      "https://www.retaildive.com/news/bed-bath-beyond-reportedly-lays-off-almost-150/551625/\n",
      "https://www.retaildive.com/news/macys-hires-first-chief-supply-chain-officer-Dennis-Mullahy/551847/\n",
      "https://www.retaildive.com/news/walmart-on-time-in-full-87-suppliers/550102/\n",
      "https://www.retaildive.com/news/advanced-analytics-inventory-challenges-overbuying-underbuying/548827/\n",
      "https://www.retaildive.com/news/levi-strauss-appoints-an-artificial-intelligence-officer/548964/\n",
      "https://www.retaildive.com/news/gartner-5g-will-drive-100m-people-to-shop-in-ar-by-next-year/551940/\n",
      "https://www.retaildive.com/news/macys-to-cut-roughly-100-executive-jobs/549236/\n",
      "https://www.retaildive.com/news/family-dollar-to-close-nearly-400-stores/549865/\n",
      "https://www.retaildive.com/news/michaels-losing-market-share-in-crafts/550804/\n",
      "https://www.retaildive.com/news/macys-to-outsource-it-unit/550707/\n",
      "https://www.retaildive.com/news/ulta-banks-on-exclusives-to-fuel-growth-after-earnings-beat/550603/\n",
      "https://www.retaildive.com/news/reuters-pier-1-takes-further-steps-to-manage-debt/550591/\n",
      "https://www.retaildive.com/news/chicos-appoints-nordstrom-veteran-as-president/549921/\n",
      "https://www.retaildive.com/news/j-crew-resets-turnaround-again/550997/\n",
      "https://www.retaildive.com/news/gamestop-lost-673m-last-year/551915/\n",
      "https://www.retaildive.com/news/freds-shuttering-159-stores/552636/\n",
      "https://www.supplychaindive.com/news/walgreens-hires-chief-supply-chain-officer/553557/\n",
      "https://www.supplychaindive.com/news/predictive-analytics-operations-growth-MHI/552709/\n",
      "https://www.supplychaindive.com/news/ibm-blockchain-for-food-gains-major-us-grocer/552647/\n",
      "https://www.supplychaindive.com/news/rfid-tags-deliver-97-stock-accuracy-for-river-island/552263/\n",
      "https://www.supplychaindive.com/news/track-trace-supply-chain-iot-spending/551751/\n",
      "https://www.retaildive.com/news/price-and-rewards-are-crucial-to-gen-zers-and-young-millennials/549166/\n",
      "https://www.retaildive.com/news/lululemon-flexes-on-plans-for-a-50-digital-business/551473/\n",
      "https://www.retaildive.com/news/techstyle-claims-more-than-5m-active-members/549193/\n",
      "https://www.retaildive.com/news/ace-hardware-adds-deliver-from-store-options/552641/\n",
      "https://www.retaildive.com/news/chicos-to-launch-online-lingerie-brand-targeting-millennials/552560/\n",
      "https://www.retaildive.com/news/ross-president-and-coo-resigns/552637/\n",
      "https://www.retaildive.com/news/retailers-struggle-inventory-forecasting/552739/\n",
      "https://www.retaildive.com/news/best-buy-names-new-ceo/552740/\n",
      "https://www.retaildive.com/news/j-crew-mulls-ipo-for-madewell-brand/552633/\n",
      "https://www.retaildive.com/news/destination-maternity-margins-shrink/552835/\n",
      "https://www.retaildive.com/news/diesel-usa-files-chapter-11/549799/\n",
      "https://www.retaildive.com/news/neiman-marcus-takes-minority-stake-in-resale-site-fashionphile/552936/\n",
      "https://www.retaildive.com/news/walgreens-taps-narvar-for-online-pickup-returns-in-8k-stores/552958/\n",
      "https://www.retaildive.com/news/pier-1-appoints-interim-cfo-amid-growing-financial-loss/553038/\n",
      "https://www.retaildive.com/news/ulta-lands-exclusive-deal-with-dtc-brand-madison-reed/553305/\n",
      "https://www.retaildive.com/news/retail-hiring-fell-81-in-2018/553272/\n",
      "https://www.retaildive.com/news/forever-21-shutting-down-chinese-e-commerce-site/553526/\n",
      "https://www.marketingdive.com/news/kfc-releases-sexy-mothers-day-video/553515/\n",
      "https://www.marketingdive.com/news/heineken-taps-the-office-stars-to-push-new-non-alcoholic-beer/553436/\n",
      "https://www.marketingdive.com/news/chipotle-doubles-digital-sales-in-1-quarter/553455/\n",
      "https://www.marketingdive.com/news/having-to-share-personal-data-turns-consumers-away-from-loyalty-programs-s/552921/\n",
      "https://www.retaildive.com/news/walmart-reveals-1st-intelligent-lab-store/553571/\n",
      "https://www.retaildive.com/news/fabletics-opens-nyc-pop-up/553463/\n",
      "https://www.retaildive.com/news/lululemon-wants-to-double-mens-and-digital-by-2023/553445/\n",
      "https://www.retaildive.com/news/rtw-retailwinds-joins-online-lingerie-war/553451/\n"
     ]
    }
   ],
   "source": [
    "#Openning the connection, grabbing the page\n",
    "def data_gather(url):\n",
    "    title = []\n",
    "    text = []\n",
    "    for u in url:\n",
    "        page = requests.get(u).text\n",
    "        soup = BeautifulSoup(page, \"html.parser\")\n",
    "        title.append(soup.h1.get_text().strip()) #Extracting title \n",
    "        title = [re.sub(r'[^\\w\\s]','',x) for x in title] #Removing punctuations in the title\n",
    "        text.append(soup.findAll(\"ul\", attrs={\"class\":\"\"})) #Extracting paragraph\n",
    "        print(u)\n",
    "    return title, text\n",
    "\n",
    "title, text = data_gather(url) "
   ]
  },
  {
   "cell_type": "code",
   "execution_count": 4,
   "metadata": {},
   "outputs": [],
   "source": [
    "#Removing tags in the paragraph\n",
    "def paragraph_extraction(paragraph):\n",
    "    para2 = []\n",
    "    for txt in paragraph:\n",
    "        para1 = []\n",
    "        for i in txt:\n",
    "            para1.append(i.text)\n",
    "        para2.append(para1)\n",
    "    return para2\n",
    "\n",
    "paragraph = paragraph_extraction(text)"
   ]
  },
  {
   "cell_type": "code",
   "execution_count": 5,
   "metadata": {},
   "outputs": [
    {
     "data": {
      "text/plain": [
       "['Walmart adds nearly 4K robots to stores',\n",
       " 'Walgreens Boots Alliances heavy focus on digitalization to save up to 600M',\n",
       " 'How Dicks Sporting Goods CTO will revamp athletic ecommerce',\n",
       " 'Asos Dunkin boost engagement with poll stickers on Instagram Stories ads',\n",
       " 'Study 93 of companies with a personalization strategy boost revenue']"
      ]
     },
     "execution_count": 5,
     "metadata": {},
     "output_type": "execute_result"
    }
   ],
   "source": [
    "title[:5]"
   ]
  },
  {
   "cell_type": "code",
   "execution_count": 6,
   "metadata": {},
   "outputs": [
    {
     "data": {
      "text/plain": [
       "[['\\n\\nWalmart on Tuesday announced it would be adding more robots to its stores: 1,500 additional \"Auto-C\" robots, which are autonomous floor cleaners; 300 \"Auto-S\" robots, which scan shelves to ensure availability, accurate location and correct pricing; 1,200 \"FAST Unloaders,\"\\xa0which automatically scan and sort items from trucks; and 900 \"Pickup Towers,\"\\xa0where consumers can pick up purchases ordered online.\\n\\n\\nThe expansion of Walmart\\'s robotic fleet is in an effort to give associates more time to serve customers face-to-face, according to a company press release. \"The idea is that by leaning into the future, associates will be able to have more satisfying jobs as retail continues to change,\" the company said.\\n\\n\\nWalmart used 2018 to pilot these technologies less widely: In December, Walmart brought 78 floor-scrubbing robots into its stores with original plans to have 360 in total, and this time last year, Walmart expanded its Pickup Towers to 700 stores.\\n\\n'],\n",
       " ['\\nAs Walgreens Boots Alliance (WBA) continues its \"digitalization\"\\xa0efforts, the company stands to reduce annual IT cash spend by between $500 million and $600 million, said James Kehoe, global CFO, during the company\\'s Q2 2019 earnings call\\xa0Tuesday.\\n\"We are on track on digitalization,\" said Alex Gourlay, Walgreens co-chief operating officer and president,\\xa0during the call, referring to the company\\'s partnership with Microsoft. WBA has dedicated $300 million to \"boost our capabilities on digitalization,\" said Kehoe. About 60% of the investments are dedicated to partnerships and the remaining 40% is its own digitalization efforts. \\nDigitalization is highlighted as one of the four strategic priorities for WBA, said CEO Stefano Pessina. The other pillars include restructuring Walgreens\\' retail offerings, creating a \"neighborhood health destination around more modern pharmacy,\" and deploying its transformational cost management program, according to Pessina.\\n'],\n",
       " [\"\\nDick's Sporting Goods CTO Paul Gaffney is breaking down the silos of software development between the retailer's headquarters and its individual stores, according to an interview with The Wall Street Journal. \\nGaffney joined the retailer in November 2017 and since then has worked with his team to build inventory software. The team expects to complete the shift to in-house software for Dick's e-commerce platforms this year, according to the report.\\xa0The inventory software was deployed in stores in September for associates to have real-time product and inventory data, and alternative solutions for customers. \\nThe lift includes revamping its website with changes in how products are displayed, search and checkout, and shipping estimates, according to the report.\\xa0Among other initiatives, the technology revamp has allowed Dick's to have products online within 30 minutes of a sporting event as opposed to the three to five days it traditionally took.\\n\"],\n",
       " [\"\\nInstagram added polling stickers to Stories ads, giving brands and retailers another way to engage the image-sharing app's users with interactive content. Nine out of 10 campaigns that used poll stickers in a pilot program boosted the number of three-second ad views, according to an announcement shared with sister publication Mobile Marketer.\\nDunkin' saw a 20% lower cost-per-video view in its trial of Stories poll stickers, while Next Games boosted app installs by 40%. Retailer Asos used a similar poll to gauge user sentiment about gendered clothing with the rollout of its Collusion fashion concept.\\nEach day about 500 million people use Instagram Stories. About two-thirds (60%) of businesses on Instagram Stories include an interactive element, such as a hashtag, mention or poll sticker, each month, according to Instagram.\\n\"],\n",
       " ['\\n\\nNinety-three percent of businesses with advanced personalization strategies increased their revenue last year, according to a new study from personalization software company Monetate and WBR Research.\\n\\n\\nThe study, based on a survey of 600 senior marketers in North America and Europe from the retail, travel and hospitality, and insurance sectors, also found that 77% of businesses that exceeded their revenue goals in 2018 have a documented personalization strategy, while 74% have a dedicated budget for it.\\n\\n\\nIn addition, brands that exceeded their revenue goals created personalization-specific financial incentives for their organizations almost 50% more often than those that did not realize their 2018 revenue expectations.\\n\\n']]"
      ]
     },
     "execution_count": 6,
     "metadata": {},
     "output_type": "execute_result"
    }
   ],
   "source": [
    "paragraph[:5]"
   ]
  },
  {
   "cell_type": "raw",
   "metadata": {},
   "source": [
    "#Pickle files for later use\n",
    "#Make a new directory to hold the text files\n",
    "\n",
    "!mkdir Retail_Dive_articles\n",
    "for i, c in enumerate(title):\n",
    "    with open(\"Retail_Dive_articles/\" + c + \".txt\", \"wb\") as file:\n",
    "        pickle.dump(paragraph[i], file)"
   ]
  },
  {
   "cell_type": "code",
   "execution_count": 8,
   "metadata": {},
   "outputs": [],
   "source": [
    "# Load pickled files\n",
    "data = {}\n",
    "for i,c in enumerate(title):\n",
    "    with open(\"Retail_Dive_articles/\" + c + \".txt\", \"rb\") as file:\n",
    "        data[c] = pickle.load(file)"
   ]
  },
  {
   "cell_type": "code",
   "execution_count": 9,
   "metadata": {},
   "outputs": [
    {
     "data": {
      "text/plain": [
       "['Walmart adds nearly 4K robots to stores',\n",
       " 'Walgreens Boots Alliances heavy focus on digitalization to save up to 600M',\n",
       " 'How Dicks Sporting Goods CTO will revamp athletic ecommerce',\n",
       " 'Asos Dunkin boost engagement with poll stickers on Instagram Stories ads',\n",
       " 'Study 93 of companies with a personalization strategy boost revenue']"
      ]
     },
     "execution_count": 9,
     "metadata": {},
     "output_type": "execute_result"
    }
   ],
   "source": [
    "#List of first 5 article titles\n",
    "list(data.keys())[:5]"
   ]
  },
  {
   "cell_type": "code",
   "execution_count": 10,
   "metadata": {},
   "outputs": [
    {
     "data": {
      "text/plain": [
       "[['\\n\\nWalmart on Tuesday announced it would be adding more robots to its stores: 1,500 additional \"Auto-C\" robots, which are autonomous floor cleaners; 300 \"Auto-S\" robots, which scan shelves to ensure availability, accurate location and correct pricing; 1,200 \"FAST Unloaders,\"\\xa0which automatically scan and sort items from trucks; and 900 \"Pickup Towers,\"\\xa0where consumers can pick up purchases ordered online.\\n\\n\\nThe expansion of Walmart\\'s robotic fleet is in an effort to give associates more time to serve customers face-to-face, according to a company press release. \"The idea is that by leaning into the future, associates will be able to have more satisfying jobs as retail continues to change,\" the company said.\\n\\n\\nWalmart used 2018 to pilot these technologies less widely: In December, Walmart brought 78 floor-scrubbing robots into its stores with original plans to have 360 in total, and this time last year, Walmart expanded its Pickup Towers to 700 stores.\\n\\n'],\n",
       " ['\\nAs Walgreens Boots Alliance (WBA) continues its \"digitalization\"\\xa0efforts, the company stands to reduce annual IT cash spend by between $500 million and $600 million, said James Kehoe, global CFO, during the company\\'s Q2 2019 earnings call\\xa0Tuesday.\\n\"We are on track on digitalization,\" said Alex Gourlay, Walgreens co-chief operating officer and president,\\xa0during the call, referring to the company\\'s partnership with Microsoft. WBA has dedicated $300 million to \"boost our capabilities on digitalization,\" said Kehoe. About 60% of the investments are dedicated to partnerships and the remaining 40% is its own digitalization efforts. \\nDigitalization is highlighted as one of the four strategic priorities for WBA, said CEO Stefano Pessina. The other pillars include restructuring Walgreens\\' retail offerings, creating a \"neighborhood health destination around more modern pharmacy,\" and deploying its transformational cost management program, according to Pessina.\\n'],\n",
       " [\"\\nDick's Sporting Goods CTO Paul Gaffney is breaking down the silos of software development between the retailer's headquarters and its individual stores, according to an interview with The Wall Street Journal. \\nGaffney joined the retailer in November 2017 and since then has worked with his team to build inventory software. The team expects to complete the shift to in-house software for Dick's e-commerce platforms this year, according to the report.\\xa0The inventory software was deployed in stores in September for associates to have real-time product and inventory data, and alternative solutions for customers. \\nThe lift includes revamping its website with changes in how products are displayed, search and checkout, and shipping estimates, according to the report.\\xa0Among other initiatives, the technology revamp has allowed Dick's to have products online within 30 minutes of a sporting event as opposed to the three to five days it traditionally took.\\n\"],\n",
       " [\"\\nInstagram added polling stickers to Stories ads, giving brands and retailers another way to engage the image-sharing app's users with interactive content. Nine out of 10 campaigns that used poll stickers in a pilot program boosted the number of three-second ad views, according to an announcement shared with sister publication Mobile Marketer.\\nDunkin' saw a 20% lower cost-per-video view in its trial of Stories poll stickers, while Next Games boosted app installs by 40%. Retailer Asos used a similar poll to gauge user sentiment about gendered clothing with the rollout of its Collusion fashion concept.\\nEach day about 500 million people use Instagram Stories. About two-thirds (60%) of businesses on Instagram Stories include an interactive element, such as a hashtag, mention or poll sticker, each month, according to Instagram.\\n\"],\n",
       " ['\\n\\nNinety-three percent of businesses with advanced personalization strategies increased their revenue last year, according to a new study from personalization software company Monetate and WBR Research.\\n\\n\\nThe study, based on a survey of 600 senior marketers in North America and Europe from the retail, travel and hospitality, and insurance sectors, also found that 77% of businesses that exceeded their revenue goals in 2018 have a documented personalization strategy, while 74% have a dedicated budget for it.\\n\\n\\nIn addition, brands that exceeded their revenue goals created personalization-specific financial incentives for their organizations almost 50% more often than those that did not realize their 2018 revenue expectations.\\n\\n']]"
      ]
     },
     "execution_count": 10,
     "metadata": {},
     "output_type": "execute_result"
    }
   ],
   "source": [
    "#List of first 5 articles\n",
    "list(data.values())[:5]"
   ]
  },
  {
   "cell_type": "code",
   "execution_count": 12,
   "metadata": {},
   "outputs": [
    {
     "data": {
      "text/html": [
       "<div>\n",
       "<style scoped>\n",
       "    .dataframe tbody tr th:only-of-type {\n",
       "        vertical-align: middle;\n",
       "    }\n",
       "\n",
       "    .dataframe tbody tr th {\n",
       "        vertical-align: top;\n",
       "    }\n",
       "\n",
       "    .dataframe thead th {\n",
       "        text-align: right;\n",
       "    }\n",
       "</style>\n",
       "<table border=\"1\" class=\"dataframe\">\n",
       "  <thead>\n",
       "    <tr style=\"text-align: right;\">\n",
       "      <th></th>\n",
       "      <th>title</th>\n",
       "      <th>original_content</th>\n",
       "    </tr>\n",
       "    <tr>\n",
       "      <th>number</th>\n",
       "      <th></th>\n",
       "      <th></th>\n",
       "    </tr>\n",
       "  </thead>\n",
       "  <tbody>\n",
       "    <tr>\n",
       "      <th>Article 1</th>\n",
       "      <td>Pier 1 appoints interim CFO amid growing financial loss</td>\n",
       "      <td>\\n\\nPier 1 on Wednesday reported that fourth quarter net sales fell 19.5% to $412.5 million from $512.2 million in the year-ago quarter. Comp store sales in the quarter decreased 13.7%, which the ...</td>\n",
       "    </tr>\n",
       "    <tr>\n",
       "      <th>Article 2</th>\n",
       "      <td>Family Dollar to close nearly 400 stores</td>\n",
       "      <td>\\nDollar Tree on Wednesday announced that up to 390 Family Dollar stores will close in 2019. The company closed 84 Family Dollar stores in the fourth quarter.\\nThe retailer also reported consolida...</td>\n",
       "    </tr>\n",
       "    <tr>\n",
       "      <th>Article 3</th>\n",
       "      <td>Having to share personal data turns consumers away from loyalty programs study says</td>\n",
       "      <td>\\nAccording to a new Harris Poll survey, 71% of Americans would be less likely to join a rewards program that collects personal information, such as address, account information and more, with 27%...</td>\n",
       "    </tr>\n",
       "    <tr>\n",
       "      <th>Article 4</th>\n",
       "      <td>Walgreens taps Narvar for online pickup returns in 8K stores</td>\n",
       "      <td>\\n\\np.p1 {margin: 0.0px 0.0px 35.0px 0.0px; line-height: 28.0px; font: 16.0px Helvetica; color: #2a2a2a; -webkit-text-stroke: #2a2a2a; background-color: #ffffff}\\r\\nspan.s1 {font-kerning: none}\\r\\...</td>\n",
       "    </tr>\n",
       "    <tr>\n",
       "      <th>Article 5</th>\n",
       "      <td>TechStyle claims more than 5M active members</td>\n",
       "      <td>\\n\\nTechStyle Fashion Group, which operates ShoeDazzle, JustFab, FabKids, Fabletics and Savage X Fenty,  now has more than five million active members, according to a TechStyle press release.\\n\\n\\...</td>\n",
       "    </tr>\n",
       "  </tbody>\n",
       "</table>\n",
       "</div>"
      ],
      "text/plain": [
       "                                                                                         title  \\\n",
       "number                                                                                           \n",
       "Article 1                              Pier 1 appoints interim CFO amid growing financial loss   \n",
       "Article 2                                             Family Dollar to close nearly 400 stores   \n",
       "Article 3  Having to share personal data turns consumers away from loyalty programs study says   \n",
       "Article 4                         Walgreens taps Narvar for online pickup returns in 8K stores   \n",
       "Article 5                                         TechStyle claims more than 5M active members   \n",
       "\n",
       "                                                                                                                                                                                                  original_content  \n",
       "number                                                                                                                                                                                                              \n",
       "Article 1  \\n\\nPier 1 on Wednesday reported that fourth quarter net sales fell 19.5% to $412.5 million from $512.2 million in the year-ago quarter. Comp store sales in the quarter decreased 13.7%, which the ...  \n",
       "Article 2  \\nDollar Tree on Wednesday announced that up to 390 Family Dollar stores will close in 2019. The company closed 84 Family Dollar stores in the fourth quarter.\\nThe retailer also reported consolida...  \n",
       "Article 3  \\nAccording to a new Harris Poll survey, 71% of Americans would be less likely to join a rewards program that collects personal information, such as address, account information and more, with 27%...  \n",
       "Article 4  \\n\\np.p1 {margin: 0.0px 0.0px 35.0px 0.0px; line-height: 28.0px; font: 16.0px Helvetica; color: #2a2a2a; -webkit-text-stroke: #2a2a2a; background-color: #ffffff}\\r\\nspan.s1 {font-kerning: none}\\r\\...  \n",
       "Article 5  \\n\\nTechStyle Fashion Group, which operates ShoeDazzle, JustFab, FabKids, Fabletics and Savage X Fenty,  now has more than five million active members, according to a TechStyle press release.\\n\\n\\...  "
      ]
     },
     "execution_count": 12,
     "metadata": {},
     "output_type": "execute_result"
    }
   ],
   "source": [
    "'''\n",
    "Creating Dataframe of articles with title\n",
    "'''\n",
    "import pandas as pd\n",
    "pd.set_option('max_colwidth', 200)\n",
    "\n",
    "data_df = pd.DataFrame(data).T\n",
    "data_df = data_df.sample(frac=1)#Shuffling the rows\n",
    "data_df.reset_index(level=0, inplace=True)\n",
    "data_df.columns = ['title', 'original_content']\n",
    "\n",
    "#Adding new column to denote the article number\n",
    "data_df['number'] = \" \"\n",
    "for i in data_df.index:\n",
    "    data_df['number'][i] = 'Article' + ' ' + str(i+1)\n",
    "\n",
    "data_df.set_index('number', inplace=True)\n",
    "      \n",
    "data_df.head()"
   ]
  },
  {
   "cell_type": "code",
   "execution_count": 13,
   "metadata": {},
   "outputs": [],
   "source": [
    "#Pickle the dataframe for future use\n",
    "data_df.to_pickle(\"contents.pkl\")"
   ]
  },
  {
   "cell_type": "code",
   "execution_count": null,
   "metadata": {},
   "outputs": [],
   "source": []
  }
 ],
 "metadata": {
  "kernelspec": {
   "display_name": "Python 3",
   "language": "python",
   "name": "python3"
  },
  "language_info": {
   "codemirror_mode": {
    "name": "ipython",
    "version": 3
   },
   "file_extension": ".py",
   "mimetype": "text/x-python",
   "name": "python",
   "nbconvert_exporter": "python",
   "pygments_lexer": "ipython3",
   "version": "3.6.5"
  }
 },
 "nbformat": 4,
 "nbformat_minor": 2
}
