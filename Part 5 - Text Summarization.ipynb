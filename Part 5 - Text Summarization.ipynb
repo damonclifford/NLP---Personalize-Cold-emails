{
 "cells": [
  {
   "cell_type": "markdown",
   "metadata": {},
   "source": [
    "<h1>Text Summarization using TextRank Algorithm</h1>"
   ]
  },
  {
   "cell_type": "code",
   "execution_count": 1,
   "metadata": {},
   "outputs": [],
   "source": [
    "#Loading required packages\n",
    "import pandas as pd\n",
    "import numpy as np\n",
    "import nltk\n",
    "import re\n",
    "import string\n",
    "\n",
    "from sklearn.metrics.pairwise import cosine_similarity\n",
    "import networkx as nx"
   ]
  },
  {
   "cell_type": "code",
   "execution_count": 2,
   "metadata": {},
   "outputs": [
    {
     "data": {
      "text/html": [
       "<div>\n",
       "<style scoped>\n",
       "    .dataframe tbody tr th:only-of-type {\n",
       "        vertical-align: middle;\n",
       "    }\n",
       "\n",
       "    .dataframe tbody tr th {\n",
       "        vertical-align: top;\n",
       "    }\n",
       "\n",
       "    .dataframe thead th {\n",
       "        text-align: right;\n",
       "    }\n",
       "</style>\n",
       "<table border=\"1\" class=\"dataframe\">\n",
       "  <thead>\n",
       "    <tr style=\"text-align: right;\">\n",
       "      <th></th>\n",
       "      <th>title</th>\n",
       "      <th>original_content</th>\n",
       "    </tr>\n",
       "    <tr>\n",
       "      <th>number</th>\n",
       "      <th></th>\n",
       "      <th></th>\n",
       "    </tr>\n",
       "  </thead>\n",
       "  <tbody>\n",
       "    <tr>\n",
       "      <th>Article 1</th>\n",
       "      <td>Pier 1 appoints interim CFO amid growing finan...</td>\n",
       "      <td>\\n\\nPier 1 on Wednesday reported that fourth q...</td>\n",
       "    </tr>\n",
       "    <tr>\n",
       "      <th>Article 2</th>\n",
       "      <td>Family Dollar to close nearly 400 stores</td>\n",
       "      <td>\\nDollar Tree on Wednesday announced that up t...</td>\n",
       "    </tr>\n",
       "    <tr>\n",
       "      <th>Article 3</th>\n",
       "      <td>Having to share personal data turns consumers ...</td>\n",
       "      <td>\\nAccording to a new Harris Poll survey, 71% o...</td>\n",
       "    </tr>\n",
       "    <tr>\n",
       "      <th>Article 4</th>\n",
       "      <td>Walgreens taps Narvar for online pickup return...</td>\n",
       "      <td>\\n\\np.p1 {margin: 0.0px 0.0px 35.0px 0.0px; li...</td>\n",
       "    </tr>\n",
       "    <tr>\n",
       "      <th>Article 5</th>\n",
       "      <td>TechStyle claims more than 5M active members</td>\n",
       "      <td>\\n\\nTechStyle Fashion Group, which operates Sh...</td>\n",
       "    </tr>\n",
       "  </tbody>\n",
       "</table>\n",
       "</div>"
      ],
      "text/plain": [
       "                                                       title  \\\n",
       "number                                                         \n",
       "Article 1  Pier 1 appoints interim CFO amid growing finan...   \n",
       "Article 2           Family Dollar to close nearly 400 stores   \n",
       "Article 3  Having to share personal data turns consumers ...   \n",
       "Article 4  Walgreens taps Narvar for online pickup return...   \n",
       "Article 5       TechStyle claims more than 5M active members   \n",
       "\n",
       "                                            original_content  \n",
       "number                                                        \n",
       "Article 1  \\n\\nPier 1 on Wednesday reported that fourth q...  \n",
       "Article 2  \\nDollar Tree on Wednesday announced that up t...  \n",
       "Article 3  \\nAccording to a new Harris Poll survey, 71% o...  \n",
       "Article 4  \\n\\np.p1 {margin: 0.0px 0.0px 35.0px 0.0px; li...  \n",
       "Article 5  \\n\\nTechStyle Fashion Group, which operates Sh...  "
      ]
     },
     "execution_count": 2,
     "metadata": {},
     "output_type": "execute_result"
    }
   ],
   "source": [
    "data = pd.read_pickle(\"contents.pkl\")\n",
    "data.head()"
   ]
  },
  {
   "cell_type": "code",
   "execution_count": 3,
   "metadata": {},
   "outputs": [],
   "source": [
    "#Tokenize the sentences using NLTK\n",
    "from nltk.tokenize import sent_tokenize\n",
    "token = []\n",
    "for sent in data['original_content']:\n",
    "    token.append(sent_tokenize(sent))\n",
    "        \n",
    "data['sentence_tokens'] = token"
   ]
  },
  {
   "cell_type": "code",
   "execution_count": 4,
   "metadata": {},
   "outputs": [],
   "source": [
    "'''\n",
    "Data Cleaning - Round 1\n",
    "#Remove tags, whitespaces and special characters\n",
    "'''\n",
    "def clean_text1(doc):\n",
    "    token1 = []\n",
    "    token2 = []\n",
    "    \n",
    "    for i in doc:\n",
    "        token1 = re.sub(r'\\{[^)]*\\}', '', i) #Removes tags\n",
    "        token1 = re.sub(r'\\s+', ' ', token1) #Removes whitespaces\n",
    "        token1 = re.sub(r'^.p', '', token1) #Removes extra first character 'p' in specific rows\n",
    "        token1 = re.sub(r'^.p1', '', token1) #Removes extra first character 'p' in specific rows\n",
    "        token1 = token1.lstrip()\n",
    "        token2.append(token1)\n",
    "    return token2\n",
    "\n",
    "data['sentence_tokens'] = data['sentence_tokens'].apply(lambda x: clean_text1(x))"
   ]
  },
  {
   "cell_type": "code",
   "execution_count": 5,
   "metadata": {},
   "outputs": [
    {
     "data": {
      "text/plain": [
       "['Ann Taylor, LOFT, Lou & Grey, Ann Taylor Factory and LOFT Outlet — which together make up Ascena’s premium apparel group — Tuesday launched ALL Rewards, a loyalty program without a membership fee that for the first time enables clients to earn and redeem perks across all five brands.',\n",
       " 'The program includes customers without the retailers\\' credit cards, although card members earn five points for every dollar spent, while non-credit card members earn two points per dollar spent \"on qualifying purchases across all five brands,\" according to a company press release.',\n",
       " 'All loyalty members get $5 for every 500 points they earn, which they can use at any Ann Taylor, LOFT, Lou & Grey, Ann Taylor Factory or LOFT Outlet store or website in the U.S. and Puerto Rico.',\n",
       " 'Other ALL Rewards include events and promotions, choose-your-own bonus points days, a birthday gift and other exclusive offers.',\n",
       " 'Credit card holders also get additional benefits like \"free shipping with a $75 online qualifying purchase, a welcome offer, an extra 15% off every first Tuesday of the month for qualifying purchases, and a dedicated customer service phone line.\"']"
      ]
     },
     "execution_count": 5,
     "metadata": {},
     "output_type": "execute_result"
    }
   ],
   "source": [
    "data['sentence_tokens'][23]"
   ]
  },
  {
   "cell_type": "code",
   "execution_count": 6,
   "metadata": {},
   "outputs": [
    {
     "data": {
      "text/html": [
       "<div>\n",
       "<style scoped>\n",
       "    .dataframe tbody tr th:only-of-type {\n",
       "        vertical-align: middle;\n",
       "    }\n",
       "\n",
       "    .dataframe tbody tr th {\n",
       "        vertical-align: top;\n",
       "    }\n",
       "\n",
       "    .dataframe thead th {\n",
       "        text-align: right;\n",
       "    }\n",
       "</style>\n",
       "<table border=\"1\" class=\"dataframe\">\n",
       "  <thead>\n",
       "    <tr style=\"text-align: right;\">\n",
       "      <th></th>\n",
       "      <th>title</th>\n",
       "      <th>original_content</th>\n",
       "      <th>sentence_tokens</th>\n",
       "      <th>clean_sentence_tokens</th>\n",
       "    </tr>\n",
       "    <tr>\n",
       "      <th>number</th>\n",
       "      <th></th>\n",
       "      <th></th>\n",
       "      <th></th>\n",
       "      <th></th>\n",
       "    </tr>\n",
       "  </thead>\n",
       "  <tbody>\n",
       "    <tr>\n",
       "      <th>Article 1</th>\n",
       "      <td>Pier 1 appoints interim CFO amid growing finan...</td>\n",
       "      <td>\\n\\nPier 1 on Wednesday reported that fourth q...</td>\n",
       "      <td>[Pier 1 on Wednesday reported that fourth quar...</td>\n",
       "      <td>[pier on wednesday reported that fourth quarte...</td>\n",
       "    </tr>\n",
       "    <tr>\n",
       "      <th>Article 2</th>\n",
       "      <td>Family Dollar to close nearly 400 stores</td>\n",
       "      <td>\\nDollar Tree on Wednesday announced that up t...</td>\n",
       "      <td>[Dollar Tree on Wednesday announced that up to...</td>\n",
       "      <td>[dollar tree on wednesday announced that up to...</td>\n",
       "    </tr>\n",
       "    <tr>\n",
       "      <th>Article 3</th>\n",
       "      <td>Having to share personal data turns consumers ...</td>\n",
       "      <td>\\nAccording to a new Harris Poll survey, 71% o...</td>\n",
       "      <td>[According to a new Harris Poll survey, 71% of...</td>\n",
       "      <td>[according to a new harris poll survey of amer...</td>\n",
       "    </tr>\n",
       "    <tr>\n",
       "      <th>Article 4</th>\n",
       "      <td>Walgreens taps Narvar for online pickup return...</td>\n",
       "      <td>\\n\\np.p1 {margin: 0.0px 0.0px 35.0px 0.0px; li...</td>\n",
       "      <td>[Customer experience platform Narvar and Walgr...</td>\n",
       "      <td>[customer experience platform narvar and walgr...</td>\n",
       "    </tr>\n",
       "    <tr>\n",
       "      <th>Article 5</th>\n",
       "      <td>TechStyle claims more than 5M active members</td>\n",
       "      <td>\\n\\nTechStyle Fashion Group, which operates Sh...</td>\n",
       "      <td>[TechStyle Fashion Group, which operates ShoeD...</td>\n",
       "      <td>[techstyle fashion group which operates shoeda...</td>\n",
       "    </tr>\n",
       "  </tbody>\n",
       "</table>\n",
       "</div>"
      ],
      "text/plain": [
       "                                                       title  \\\n",
       "number                                                         \n",
       "Article 1  Pier 1 appoints interim CFO amid growing finan...   \n",
       "Article 2           Family Dollar to close nearly 400 stores   \n",
       "Article 3  Having to share personal data turns consumers ...   \n",
       "Article 4  Walgreens taps Narvar for online pickup return...   \n",
       "Article 5       TechStyle claims more than 5M active members   \n",
       "\n",
       "                                            original_content  \\\n",
       "number                                                         \n",
       "Article 1  \\n\\nPier 1 on Wednesday reported that fourth q...   \n",
       "Article 2  \\nDollar Tree on Wednesday announced that up t...   \n",
       "Article 3  \\nAccording to a new Harris Poll survey, 71% o...   \n",
       "Article 4  \\n\\np.p1 {margin: 0.0px 0.0px 35.0px 0.0px; li...   \n",
       "Article 5  \\n\\nTechStyle Fashion Group, which operates Sh...   \n",
       "\n",
       "                                             sentence_tokens  \\\n",
       "number                                                         \n",
       "Article 1  [Pier 1 on Wednesday reported that fourth quar...   \n",
       "Article 2  [Dollar Tree on Wednesday announced that up to...   \n",
       "Article 3  [According to a new Harris Poll survey, 71% of...   \n",
       "Article 4  [Customer experience platform Narvar and Walgr...   \n",
       "Article 5  [TechStyle Fashion Group, which operates ShoeD...   \n",
       "\n",
       "                                       clean_sentence_tokens  \n",
       "number                                                        \n",
       "Article 1  [pier on wednesday reported that fourth quarte...  \n",
       "Article 2  [dollar tree on wednesday announced that up to...  \n",
       "Article 3  [according to a new harris poll survey of amer...  \n",
       "Article 4  [customer experience platform narvar and walgr...  \n",
       "Article 5  [techstyle fashion group which operates shoeda...  "
      ]
     },
     "execution_count": 6,
     "metadata": {},
     "output_type": "execute_result"
    }
   ],
   "source": [
    "'''\n",
    "Data Cleaning - Round 2\n",
    "#Remove whitespaces, punctuations and digits\n",
    "'''\n",
    "def clean_text2(doc):\n",
    "    token1 = []\n",
    "    token2 = []\n",
    "    \n",
    "    for i in doc:\n",
    "        token1 = re.sub(r'\\w*\\d\\w*', '', i) #Remove numbers\n",
    "        token1 = re.sub(r'[%s]'% re.escape(string.punctuation), '', token1)#Removes punctuations\n",
    "        token1 = re.sub(r'\\s+', ' ', token1) #Removes whitespaces\n",
    "        token1 = token1.lower()\n",
    "        token2.append(token1)\n",
    "    return token2\n",
    "\n",
    "data['clean_sentence_tokens'] = data['sentence_tokens'].apply(lambda x: clean_text2(x))\n",
    "data.head()"
   ]
  },
  {
   "cell_type": "code",
   "execution_count": 7,
   "metadata": {},
   "outputs": [
    {
     "data": {
      "text/plain": [
       "['pier on wednesday reported that fourth quarter net sales fell to million from million in the yearago quarter',\n",
       " 'comp store sales in the quarter decreased which the company attributes partially to the shift in holiday selling days not included in the fourth quarter',\n",
       " 'for fiscal year the company reported net sales fell to billion from billion year over year',\n",
       " 'the company’s longterm debt stands at million up from million in the yearago period\\u200b the company also reported a net loss of million which includes a million transformation cost related to professional fees and severance costs from a net income of million in the yearago period according to a company press release',\n",
       " 'gross profit for the quarter totaled million or of net sales from million or of net sales in the yearago quarter',\n",
       " 'pier also appointed deborah riegerpaganis as interim cfo effective immediately replacing nancy walsh who also served as evp and principal financial officer according to a separate press release',\n",
       " 'riegerpaganis is the managing director at alixpartners a consulting firm and has years of experience leading retail companies finance organizations and business operations']"
      ]
     },
     "execution_count": 7,
     "metadata": {},
     "output_type": "execute_result"
    }
   ],
   "source": [
    "data['clean_sentence_tokens'][0]"
   ]
  },
  {
   "cell_type": "code",
   "execution_count": 8,
   "metadata": {},
   "outputs": [],
   "source": [
    "from nltk.corpus import stopwords\n",
    "stop_words = stopwords.words('english')\n",
    "\n",
    "# function to remove stopwords\n",
    "def remove_stopwords(sen):\n",
    "    sen_new = \" \".join([i for i in sen if i not in stop_words])\n",
    "    return sen_new\n",
    "\n",
    "# remove stopwords from the sentences\n",
    "data['clean_sentence_tokens'] = data['clean_sentence_tokens'].apply(lambda x: [remove_stopwords(r.split()) for r in x])"
   ]
  },
  {
   "cell_type": "code",
   "execution_count": 9,
   "metadata": {},
   "outputs": [
    {
     "data": {
      "text/plain": [
       "['dollar tree wednesday announced family dollar stores close',\n",
       " 'company closed family dollar stores fourth quarter',\n",
       " 'retailer also reported consolidated net sales week fourth quarter fell billion billion previous year weeks',\n",
       " 'consolidated net sales week fiscal increased billion billion week fiscal year',\n",
       " 'enterprise samestore sales quarter rose samestore sales dollar tree banner rose constant currency basis samestore sales family dollar banner rose according company press release',\n",
       " 'additionally dollar tree reported billion gross profit compared billion prior years week quarter',\n",
       " 'gross margin decreased compared year year',\n",
       " 'company stated decline due higher markdowns including million sku rationalization markdown family dollar along shrink domestic freight costs distribution costs occupancy costs']"
      ]
     },
     "execution_count": 9,
     "metadata": {},
     "output_type": "execute_result"
    }
   ],
   "source": [
    "data['clean_sentence_tokens'][1]"
   ]
  },
  {
   "cell_type": "markdown",
   "metadata": {},
   "source": [
    "### Vector Representation of Sentences"
   ]
  },
  {
   "cell_type": "code",
   "execution_count": 10,
   "metadata": {},
   "outputs": [],
   "source": [
    "# Extract word vectors\n",
    "word_embeddings = {}\n",
    "f = open('GloVe/glove.6B.100d.txt', encoding='utf-8')\n",
    "for line in f:\n",
    "    values = line.split()\n",
    "    word = values[0]\n",
    "    coefs = np.asarray(values[1:], dtype='float32')\n",
    "    word_embeddings[word] = coefs\n",
    "f.close()"
   ]
  },
  {
   "cell_type": "code",
   "execution_count": 11,
   "metadata": {},
   "outputs": [],
   "source": [
    "def sentence_vector(clean_sentences):\n",
    "    sentence_vectors = []\n",
    "    for i in clean_sentences:\n",
    "        if len(i) != 0:\n",
    "            v = sum([word_embeddings.get(w, np.zeros((100,))) for w in i.split()])/(len(i.split())+0.001)\n",
    "        else:\n",
    "            v = np.zeros((100,))\n",
    "        sentence_vectors.append(v)\n",
    "    return sentence_vectors\n",
    "    \n",
    "data['sentence_vectors'] = [sentence_vector(x) for x in data['clean_sentence_tokens']]"
   ]
  },
  {
   "cell_type": "markdown",
   "metadata": {},
   "source": [
    "### Similarity Matrix Preparation"
   ]
  },
  {
   "cell_type": "code",
   "execution_count": 12,
   "metadata": {},
   "outputs": [],
   "source": [
    "# similarity matrix\n",
    "def similarity_matrix(sentences, sentence_vectors):\n",
    "    sim_mat = np.zeros([len(sentences), len(sentences)])\n",
    "    for i in range(len(sentences)):\n",
    "        for j in range(len(sentences)):\n",
    "            if i != j:\n",
    "                sim_mat[i][j] = cosine_similarity(sentence_vectors[i].reshape(1,100), sentence_vectors[j].reshape(1,100))[0,0]\n",
    "    return sim_mat        \n",
    "\n",
    "data['sim_matrix'] = [similarity_matrix(x,y) for x,y in zip(data['sentence_tokens'], data['sentence_vectors'])]"
   ]
  },
  {
   "cell_type": "markdown",
   "metadata": {},
   "source": [
    "### Applying TextRank Algorithm"
   ]
  },
  {
   "cell_type": "code",
   "execution_count": 13,
   "metadata": {},
   "outputs": [],
   "source": [
    "def text_summarize(similarity_matrix, sentences):\n",
    "    nx_graph = nx.from_numpy_array(similarity_matrix)\n",
    "    scores = nx.pagerank(nx_graph)\n",
    "    \n",
    "    summary = []\n",
    "    ranked_sentences = sorted(((scores[i],s) for i,s in enumerate(sentences)), reverse = True)\n",
    "    for i in range(2):\n",
    "        s = ranked_sentences[i][1]\n",
    "        summary.append(s)\n",
    "    return summary\n",
    "\n",
    "data['summary'] = [text_summarize(x,y) for x,y in zip(data['sim_matrix'], data['sentence_tokens'])]\n",
    "data['summary'] = data['summary'].apply(' '.join)"
   ]
  },
  {
   "cell_type": "code",
   "execution_count": 14,
   "metadata": {},
   "outputs": [
    {
     "data": {
      "text/plain": [
       "'Net income for the quarter increased 3.1% to $214.7 million, compared to $208.2 million in the prior year. erating income rose 10.5% to $281.2 million, or 13.2% of net sales, compared to $254.4 million in the year-ago quarter.'"
      ]
     },
     "execution_count": 14,
     "metadata": {},
     "output_type": "execute_result"
    }
   ],
   "source": [
    "data['summary'][14]"
   ]
  },
  {
   "cell_type": "code",
   "execution_count": 15,
   "metadata": {},
   "outputs": [
    {
     "data": {
      "text/html": [
       "<div>\n",
       "<style scoped>\n",
       "    .dataframe tbody tr th:only-of-type {\n",
       "        vertical-align: middle;\n",
       "    }\n",
       "\n",
       "    .dataframe tbody tr th {\n",
       "        vertical-align: top;\n",
       "    }\n",
       "\n",
       "    .dataframe thead th {\n",
       "        text-align: right;\n",
       "    }\n",
       "</style>\n",
       "<table border=\"1\" class=\"dataframe\">\n",
       "  <thead>\n",
       "    <tr style=\"text-align: right;\">\n",
       "      <th></th>\n",
       "      <th>title</th>\n",
       "      <th>original_content</th>\n",
       "      <th>sentence_tokens</th>\n",
       "      <th>summary</th>\n",
       "    </tr>\n",
       "    <tr>\n",
       "      <th>number</th>\n",
       "      <th></th>\n",
       "      <th></th>\n",
       "      <th></th>\n",
       "      <th></th>\n",
       "    </tr>\n",
       "  </thead>\n",
       "  <tbody>\n",
       "    <tr>\n",
       "      <th>Article 1</th>\n",
       "      <td>Pier 1 appoints interim CFO amid growing finan...</td>\n",
       "      <td>\\n\\nPier 1 on Wednesday reported that fourth q...</td>\n",
       "      <td>[Pier 1 on Wednesday reported that fourth quar...</td>\n",
       "      <td>For fiscal year 2019, the company reported net...</td>\n",
       "    </tr>\n",
       "    <tr>\n",
       "      <th>Article 2</th>\n",
       "      <td>Family Dollar to close nearly 400 stores</td>\n",
       "      <td>\\nDollar Tree on Wednesday announced that up t...</td>\n",
       "      <td>[Dollar Tree on Wednesday announced that up to...</td>\n",
       "      <td>Additionally, Dollar Tree reported $1.9 billio...</td>\n",
       "    </tr>\n",
       "    <tr>\n",
       "      <th>Article 3</th>\n",
       "      <td>Having to share personal data turns consumers ...</td>\n",
       "      <td>\\nAccording to a new Harris Poll survey, 71% o...</td>\n",
       "      <td>[According to a new Harris Poll survey, 71% of...</td>\n",
       "      <td>The survey also found 58% of Americans are les...</td>\n",
       "    </tr>\n",
       "    <tr>\n",
       "      <th>Article 4</th>\n",
       "      <td>Walgreens taps Narvar for online pickup return...</td>\n",
       "      <td>\\n\\np.p1 {margin: 0.0px 0.0px 35.0px 0.0px; li...</td>\n",
       "      <td>[Customer experience platform Narvar and Walgr...</td>\n",
       "      <td>Those customers can select a Narvar Concierge ...</td>\n",
       "    </tr>\n",
       "    <tr>\n",
       "      <th>Article 5</th>\n",
       "      <td>TechStyle claims more than 5M active members</td>\n",
       "      <td>\\n\\nTechStyle Fashion Group, which operates Sh...</td>\n",
       "      <td>[TechStyle Fashion Group, which operates ShoeD...</td>\n",
       "      <td>Program members are provided access to discoun...</td>\n",
       "    </tr>\n",
       "  </tbody>\n",
       "</table>\n",
       "</div>"
      ],
      "text/plain": [
       "                                                       title  \\\n",
       "number                                                         \n",
       "Article 1  Pier 1 appoints interim CFO amid growing finan...   \n",
       "Article 2           Family Dollar to close nearly 400 stores   \n",
       "Article 3  Having to share personal data turns consumers ...   \n",
       "Article 4  Walgreens taps Narvar for online pickup return...   \n",
       "Article 5       TechStyle claims more than 5M active members   \n",
       "\n",
       "                                            original_content  \\\n",
       "number                                                         \n",
       "Article 1  \\n\\nPier 1 on Wednesday reported that fourth q...   \n",
       "Article 2  \\nDollar Tree on Wednesday announced that up t...   \n",
       "Article 3  \\nAccording to a new Harris Poll survey, 71% o...   \n",
       "Article 4  \\n\\np.p1 {margin: 0.0px 0.0px 35.0px 0.0px; li...   \n",
       "Article 5  \\n\\nTechStyle Fashion Group, which operates Sh...   \n",
       "\n",
       "                                             sentence_tokens  \\\n",
       "number                                                         \n",
       "Article 1  [Pier 1 on Wednesday reported that fourth quar...   \n",
       "Article 2  [Dollar Tree on Wednesday announced that up to...   \n",
       "Article 3  [According to a new Harris Poll survey, 71% of...   \n",
       "Article 4  [Customer experience platform Narvar and Walgr...   \n",
       "Article 5  [TechStyle Fashion Group, which operates ShoeD...   \n",
       "\n",
       "                                                     summary  \n",
       "number                                                        \n",
       "Article 1  For fiscal year 2019, the company reported net...  \n",
       "Article 2  Additionally, Dollar Tree reported $1.9 billio...  \n",
       "Article 3  The survey also found 58% of Americans are les...  \n",
       "Article 4  Those customers can select a Narvar Concierge ...  \n",
       "Article 5  Program members are provided access to discoun...  "
      ]
     },
     "execution_count": 15,
     "metadata": {},
     "output_type": "execute_result"
    }
   ],
   "source": [
    "data = data[['title', 'original_content', 'sentence_tokens', 'summary']]\n",
    "data.head()"
   ]
  },
  {
   "cell_type": "code",
   "execution_count": null,
   "metadata": {},
   "outputs": [],
   "source": []
  }
 ],
 "metadata": {
  "kernelspec": {
   "display_name": "Python 3",
   "language": "python",
   "name": "python3"
  },
  "language_info": {
   "codemirror_mode": {
    "name": "ipython",
    "version": 3
   },
   "file_extension": ".py",
   "mimetype": "text/x-python",
   "name": "python",
   "nbconvert_exporter": "python",
   "pygments_lexer": "ipython3",
   "version": "3.6.5"
  }
 },
 "nbformat": 4,
 "nbformat_minor": 2
}
