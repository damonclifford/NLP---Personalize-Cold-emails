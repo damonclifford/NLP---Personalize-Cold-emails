{
 "cells": [
  {
   "cell_type": "markdown",
   "metadata": {},
   "source": [
    "<h1>Clustering articles using Topic Modelling</h1>"
   ]
  },
  {
   "cell_type": "code",
   "execution_count": 97,
   "metadata": {},
   "outputs": [],
   "source": [
    "#Loading required packages\n",
    "import pandas as pd\n",
    "import numpy as np\n",
    "\n",
    "pd.set_option('max_colwidth', 200)\n",
    "\n",
    "import matplotlib.pyplot as plt\n",
    "%matplotlib inline\n",
    "\n",
    "import warnings\n",
    "warnings.filterwarnings(\"ignore\")"
   ]
  },
  {
   "cell_type": "code",
   "execution_count": 98,
   "metadata": {},
   "outputs": [],
   "source": [
    "import gensim\n",
    "from gensim.models import CoherenceModel\n",
    "import pyLDAvis.gensim\n",
    "\n",
    "import spacy\n",
    "nlp = spacy.load('en')"
   ]
  },
  {
   "cell_type": "code",
   "execution_count": 99,
   "metadata": {},
   "outputs": [
    {
     "data": {
      "text/html": [
       "<div>\n",
       "<style scoped>\n",
       "    .dataframe tbody tr th:only-of-type {\n",
       "        vertical-align: middle;\n",
       "    }\n",
       "\n",
       "    .dataframe tbody tr th {\n",
       "        vertical-align: top;\n",
       "    }\n",
       "\n",
       "    .dataframe thead th {\n",
       "        text-align: right;\n",
       "    }\n",
       "</style>\n",
       "<table border=\"1\" class=\"dataframe\">\n",
       "  <thead>\n",
       "    <tr style=\"text-align: right;\">\n",
       "      <th></th>\n",
       "      <th>title</th>\n",
       "      <th>original_content</th>\n",
       "      <th>content</th>\n",
       "      <th>tokenized_content</th>\n",
       "      <th>clean_list_tokenized_content</th>\n",
       "      <th>clean_string_tokenized_content</th>\n",
       "    </tr>\n",
       "    <tr>\n",
       "      <th>number</th>\n",
       "      <th></th>\n",
       "      <th></th>\n",
       "      <th></th>\n",
       "      <th></th>\n",
       "      <th></th>\n",
       "      <th></th>\n",
       "    </tr>\n",
       "  </thead>\n",
       "  <tbody>\n",
       "    <tr>\n",
       "      <th>Article 1</th>\n",
       "      <td>Pier 1 appoints interim CFO amid growing financial loss</td>\n",
       "      <td>\\n\\nPier 1 on Wednesday reported that fourth quarter net sales fell 19.5% to $412.5 million from $512.2 million in the year-ago quarter. Comp store sales in the quarter decreased 13.7%, which the ...</td>\n",
       "      <td>Pier on Wednesday reported that fourth quarter net sales fell to million from million in the yearago quarter Comp store sales in the quarter decreased which the company attributes partially to the...</td>\n",
       "      <td>(Pier, on, Wednesday, reported, that, fourth, quarter, net, sales, fell, to, million, from, million, in, the, yearago, quarter, Comp, store, sales, in, the, quarter, decreased, which, the, company...</td>\n",
       "      <td>[pier, Wednesday, report, fourth, quarter, net, sale, fall, million, million, yearago, quarter, Comp, sale, quarter, decrease, attribute, partially, shift, holiday, selling, day, include, fourth, ...</td>\n",
       "      <td>pier, Wednesday, report, fourth, quarter, net, sale, fall, million, million, yearago, quarter, Comp, sale, quarter, decrease, attribute, partially, shift, holiday, selling, day, include, fourth, q...</td>\n",
       "    </tr>\n",
       "    <tr>\n",
       "      <th>Article 2</th>\n",
       "      <td>Family Dollar to close nearly 400 stores</td>\n",
       "      <td>\\nDollar Tree on Wednesday announced that up to 390 Family Dollar stores will close in 2019. The company closed 84 Family Dollar stores in the fourth quarter.\\nThe retailer also reported consolida...</td>\n",
       "      <td>Dollar Tree on Wednesday announced that up to Family Dollar stores will close in The company closed Family Dollar stores in the fourth quarter The retailer also reported consolidated net sales for...</td>\n",
       "      <td>(Dollar, Tree, on, Wednesday, announced, that, up, to, Family, Dollar, stores, will, close, in, The, company, closed, Family, Dollar, stores, in, the, fourth, quarter, The, retailer, also, reporte...</td>\n",
       "      <td>[dollar, Tree, Wednesday, announce, Family, Dollar, close, close, Family, Dollar, fourth, quarter, report, consolidated, net, sale, week, fourth, quarter, fall, billion, billion, previous, year, w...</td>\n",
       "      <td>dollar, Tree, Wednesday, announce, Family, Dollar, close, close, Family, Dollar, fourth, quarter, report, consolidated, net, sale, week, fourth, quarter, fall, billion, billion, previous, year, we...</td>\n",
       "    </tr>\n",
       "    <tr>\n",
       "      <th>Article 3</th>\n",
       "      <td>Having to share personal data turns consumers away from loyalty programs study says</td>\n",
       "      <td>\\nAccording to a new Harris Poll survey, 71% of Americans would be less likely to join a rewards program that collects personal information, such as address, account information and more, with 27%...</td>\n",
       "      <td>According to a new Harris Poll survey of Americans would be less likely to join a rewards program that collects personal information such as address account information and more with saying they w...</td>\n",
       "      <td>(According, to, a, new, Harris, Poll, survey, of, Americans, would, be, less, likely, to, join, a, rewards, program, that, collects, personal, information, such, as, address, account, information,...</td>\n",
       "      <td>[new, Harris, Poll, survey, Americans, likely, join, reward, program, collect, personal, information, address, account, information, say, likely, join, additionally, reveal, likely, join, program,...</td>\n",
       "      <td>new, Harris, Poll, survey, Americans, likely, join, reward, program, collect, personal, information, address, account, information, say, likely, join, additionally, reveal, likely, join, program, ...</td>\n",
       "    </tr>\n",
       "    <tr>\n",
       "      <th>Article 4</th>\n",
       "      <td>Walgreens taps Narvar for online pickup returns in 8K stores</td>\n",
       "      <td>\\n\\np.p1 {margin: 0.0px 0.0px 35.0px 0.0px; line-height: 28.0px; font: 16.0px Helvetica; color: #2a2a2a; -webkit-text-stroke: #2a2a2a; background-color: #ffffff}\\r\\nspan.s1 {font-kerning: none}\\r\\...</td>\n",
       "      <td>Customer experience platform Narvar and Walgreens are working together to provide package pickup and returns at more than Walgreens locations that have FedEx OnSite services Its the first offering...</td>\n",
       "      <td>(Customer, experience, platform, Narvar, and, Walgreens, are, working, together, to, provide, package, pickup, and, returns, at, more, than, Walgreens, locations, that, have, FedEx, OnSite, servic...</td>\n",
       "      <td>[customer, experience, platform, Narvar, Walgreens, work, provide, package, pickup, return, Walgreens, location, FedEx, OnSite, service, offering, platform, new, Narvar, Concierge, suite, solution...</td>\n",
       "      <td>customer, experience, platform, Narvar, Walgreens, work, provide, package, pickup, return, Walgreens, location, FedEx, OnSite, service, offering, platform, new, Narvar, Concierge, suite, solution,...</td>\n",
       "    </tr>\n",
       "    <tr>\n",
       "      <th>Article 5</th>\n",
       "      <td>TechStyle claims more than 5M active members</td>\n",
       "      <td>\\n\\nTechStyle Fashion Group, which operates ShoeDazzle, JustFab, FabKids, Fabletics and Savage X Fenty,  now has more than five million active members, according to a TechStyle press release.\\n\\n\\...</td>\n",
       "      <td>TechStyle Fashion Group which operates ShoeDazzle JustFab FabKids Fabletics and Savage X Fenty now has more than five million active members according to a TechStyle press release Program members ...</td>\n",
       "      <td>(TechStyle, Fashion, Group, which, operates, ShoeDazzle, JustFab, FabKids, Fabletics, and, Savage, X, Fenty, now, has, more, than, five, million, active, members, according, to, a, TechStyle, pres...</td>\n",
       "      <td>[TechStyle, Fashion, Group, operate, ShoeDazzle, JustFab, FabKids, Fabletics, Savage, X, Fenty, million, active, member, TechStyle, Program, member, provide, access, discount, merchandise, free, s...</td>\n",
       "      <td>TechStyle, Fashion, Group, operate, ShoeDazzle, JustFab, FabKids, Fabletics, Savage, X, Fenty, million, active, member, TechStyle, Program, member, provide, access, discount, merchandise, free, sh...</td>\n",
       "    </tr>\n",
       "  </tbody>\n",
       "</table>\n",
       "</div>"
      ],
      "text/plain": [
       "                                                                                         title  \\\n",
       "number                                                                                           \n",
       "Article 1                              Pier 1 appoints interim CFO amid growing financial loss   \n",
       "Article 2                                             Family Dollar to close nearly 400 stores   \n",
       "Article 3  Having to share personal data turns consumers away from loyalty programs study says   \n",
       "Article 4                         Walgreens taps Narvar for online pickup returns in 8K stores   \n",
       "Article 5                                         TechStyle claims more than 5M active members   \n",
       "\n",
       "                                                                                                                                                                                                  original_content  \\\n",
       "number                                                                                                                                                                                                               \n",
       "Article 1  \\n\\nPier 1 on Wednesday reported that fourth quarter net sales fell 19.5% to $412.5 million from $512.2 million in the year-ago quarter. Comp store sales in the quarter decreased 13.7%, which the ...   \n",
       "Article 2  \\nDollar Tree on Wednesday announced that up to 390 Family Dollar stores will close in 2019. The company closed 84 Family Dollar stores in the fourth quarter.\\nThe retailer also reported consolida...   \n",
       "Article 3  \\nAccording to a new Harris Poll survey, 71% of Americans would be less likely to join a rewards program that collects personal information, such as address, account information and more, with 27%...   \n",
       "Article 4  \\n\\np.p1 {margin: 0.0px 0.0px 35.0px 0.0px; line-height: 28.0px; font: 16.0px Helvetica; color: #2a2a2a; -webkit-text-stroke: #2a2a2a; background-color: #ffffff}\\r\\nspan.s1 {font-kerning: none}\\r\\...   \n",
       "Article 5  \\n\\nTechStyle Fashion Group, which operates ShoeDazzle, JustFab, FabKids, Fabletics and Savage X Fenty,  now has more than five million active members, according to a TechStyle press release.\\n\\n\\...   \n",
       "\n",
       "                                                                                                                                                                                                           content  \\\n",
       "number                                                                                                                                                                                                               \n",
       "Article 1  Pier on Wednesday reported that fourth quarter net sales fell to million from million in the yearago quarter Comp store sales in the quarter decreased which the company attributes partially to the...   \n",
       "Article 2  Dollar Tree on Wednesday announced that up to Family Dollar stores will close in The company closed Family Dollar stores in the fourth quarter The retailer also reported consolidated net sales for...   \n",
       "Article 3  According to a new Harris Poll survey of Americans would be less likely to join a rewards program that collects personal information such as address account information and more with saying they w...   \n",
       "Article 4  Customer experience platform Narvar and Walgreens are working together to provide package pickup and returns at more than Walgreens locations that have FedEx OnSite services Its the first offering...   \n",
       "Article 5  TechStyle Fashion Group which operates ShoeDazzle JustFab FabKids Fabletics and Savage X Fenty now has more than five million active members according to a TechStyle press release Program members ...   \n",
       "\n",
       "                                                                                                                                                                                                 tokenized_content  \\\n",
       "number                                                                                                                                                                                                               \n",
       "Article 1  (Pier, on, Wednesday, reported, that, fourth, quarter, net, sales, fell, to, million, from, million, in, the, yearago, quarter, Comp, store, sales, in, the, quarter, decreased, which, the, company...   \n",
       "Article 2  (Dollar, Tree, on, Wednesday, announced, that, up, to, Family, Dollar, stores, will, close, in, The, company, closed, Family, Dollar, stores, in, the, fourth, quarter, The, retailer, also, reporte...   \n",
       "Article 3  (According, to, a, new, Harris, Poll, survey, of, Americans, would, be, less, likely, to, join, a, rewards, program, that, collects, personal, information, such, as, address, account, information,...   \n",
       "Article 4  (Customer, experience, platform, Narvar, and, Walgreens, are, working, together, to, provide, package, pickup, and, returns, at, more, than, Walgreens, locations, that, have, FedEx, OnSite, servic...   \n",
       "Article 5  (TechStyle, Fashion, Group, which, operates, ShoeDazzle, JustFab, FabKids, Fabletics, and, Savage, X, Fenty, now, has, more, than, five, million, active, members, according, to, a, TechStyle, pres...   \n",
       "\n",
       "                                                                                                                                                                                      clean_list_tokenized_content  \\\n",
       "number                                                                                                                                                                                                               \n",
       "Article 1  [pier, Wednesday, report, fourth, quarter, net, sale, fall, million, million, yearago, quarter, Comp, sale, quarter, decrease, attribute, partially, shift, holiday, selling, day, include, fourth, ...   \n",
       "Article 2  [dollar, Tree, Wednesday, announce, Family, Dollar, close, close, Family, Dollar, fourth, quarter, report, consolidated, net, sale, week, fourth, quarter, fall, billion, billion, previous, year, w...   \n",
       "Article 3  [new, Harris, Poll, survey, Americans, likely, join, reward, program, collect, personal, information, address, account, information, say, likely, join, additionally, reveal, likely, join, program,...   \n",
       "Article 4  [customer, experience, platform, Narvar, Walgreens, work, provide, package, pickup, return, Walgreens, location, FedEx, OnSite, service, offering, platform, new, Narvar, Concierge, suite, solution...   \n",
       "Article 5  [TechStyle, Fashion, Group, operate, ShoeDazzle, JustFab, FabKids, Fabletics, Savage, X, Fenty, million, active, member, TechStyle, Program, member, provide, access, discount, merchandise, free, s...   \n",
       "\n",
       "                                                                                                                                                                                    clean_string_tokenized_content  \n",
       "number                                                                                                                                                                                                              \n",
       "Article 1  pier, Wednesday, report, fourth, quarter, net, sale, fall, million, million, yearago, quarter, Comp, sale, quarter, decrease, attribute, partially, shift, holiday, selling, day, include, fourth, q...  \n",
       "Article 2  dollar, Tree, Wednesday, announce, Family, Dollar, close, close, Family, Dollar, fourth, quarter, report, consolidated, net, sale, week, fourth, quarter, fall, billion, billion, previous, year, we...  \n",
       "Article 3  new, Harris, Poll, survey, Americans, likely, join, reward, program, collect, personal, information, address, account, information, say, likely, join, additionally, reveal, likely, join, program, ...  \n",
       "Article 4  customer, experience, platform, Narvar, Walgreens, work, provide, package, pickup, return, Walgreens, location, FedEx, OnSite, service, offering, platform, new, Narvar, Concierge, suite, solution,...  \n",
       "Article 5  TechStyle, Fashion, Group, operate, ShoeDazzle, JustFab, FabKids, Fabletics, Savage, X, Fenty, million, active, member, TechStyle, Program, member, provide, access, discount, merchandise, free, sh...  "
      ]
     },
     "execution_count": 99,
     "metadata": {},
     "output_type": "execute_result"
    }
   ],
   "source": [
    "train = pd.read_pickle(\"corpus.pkl\")\n",
    "train.head()"
   ]
  },
  {
   "cell_type": "markdown",
   "metadata": {},
   "source": [
    "<h3>1. Running LDA - Using all Text</h3>"
   ]
  },
  {
   "cell_type": "code",
   "execution_count": 100,
   "metadata": {},
   "outputs": [],
   "source": [
    "#Create a dictionary from containing the number of times a word appears \n",
    "dictionary = gensim.corpora.Dictionary(train['clean_list_tokenized_content'])"
   ]
  },
  {
   "cell_type": "code",
   "execution_count": 101,
   "metadata": {},
   "outputs": [],
   "source": [
    "'''\n",
    "Create the Bag-of-words model for each article i.e for each article we create a dictionary reporting how many\n",
    "words and how many times those words appear.\n",
    "'''\n",
    "bow_corpus = [dictionary.doc2bow(doc) for doc in train['clean_list_tokenized_content']]"
   ]
  },
  {
   "cell_type": "code",
   "execution_count": 102,
   "metadata": {},
   "outputs": [
    {
     "data": {
      "text/plain": [
       "[(0,\n",
       "  '0.018*\"million\" + 0.014*\"quarter\" + 0.011*\"brand\" + 0.010*\"year\" + 0.009*\"sale\" + 0.008*\"net\" + 0.008*\"include\" + 0.006*\"say\" + 0.006*\"program\" + 0.006*\"yearago\"'),\n",
       " (1,\n",
       "  '0.011*\"report\" + 0.010*\"year\" + 0.008*\"sale\" + 0.006*\"week\" + 0.006*\"say\" + 0.006*\"president\" + 0.005*\"announce\" + 0.005*\"executive\" + 0.005*\"quarter\" + 0.005*\"Thursday\"'),\n",
       " (2,\n",
       "  '0.013*\"say\" + 0.010*\"year\" + 0.009*\"revenue\" + 0.007*\"technology\" + 0.006*\"new\" + 0.006*\"chain\" + 0.006*\"supply\" + 0.006*\"million\" + 0.005*\"report\" + 0.005*\"increase\"')]"
      ]
     },
     "execution_count": 102,
     "metadata": {},
     "output_type": "execute_result"
    }
   ],
   "source": [
    "model1 = gensim.models.LdaModel(bow_corpus, id2word=dictionary, num_topics=3, passes=10)\n",
    "model1.print_topics()"
   ]
  },
  {
   "cell_type": "code",
   "execution_count": 103,
   "metadata": {},
   "outputs": [
    {
     "data": {
      "text/plain": [
       "[(0,\n",
       "  '0.029*\"million\" + 0.026*\"quarter\" + 0.022*\"year\" + 0.021*\"sale\" + 0.018*\"net\" + 0.011*\"rise\" + 0.011*\"billion\" + 0.009*\"report\" + 0.009*\"comp\" + 0.008*\"fourth\"'),\n",
       " (1,\n",
       "  '0.010*\"include\" + 0.008*\"brand\" + 0.008*\"new\" + 0.007*\"program\" + 0.006*\"report\" + 0.006*\"say\" + 0.005*\"supply\" + 0.005*\"chain\" + 0.005*\"million\" + 0.005*\"announce\"'),\n",
       " (2,\n",
       "  '0.012*\"say\" + 0.009*\"survey\" + 0.008*\"join\" + 0.008*\"find\" + 0.007*\"new\" + 0.007*\"brand\" + 0.006*\"inventory\" + 0.006*\"respondent\" + 0.005*\"video\" + 0.005*\"customer\"'),\n",
       " (3,\n",
       "  '0.010*\"report\" + 0.010*\"say\" + 0.009*\"Walmart\" + 0.007*\"year\" + 0.006*\"brand\" + 0.006*\"technology\" + 0.006*\"’s\" + 0.005*\"time\" + 0.005*\"president\" + 0.004*\"include\"')]"
      ]
     },
     "execution_count": 103,
     "metadata": {},
     "output_type": "execute_result"
    }
   ],
   "source": [
    "model2 = gensim.models.LdaModel(bow_corpus, id2word=dictionary, num_topics=4, passes=10)\n",
    "model2.print_topics()"
   ]
  },
  {
   "cell_type": "markdown",
   "metadata": {},
   "source": [
    "<h3>2. Running LDA - Using Nouns and Adjectives only</h3>"
   ]
  },
  {
   "cell_type": "code",
   "execution_count": 104,
   "metadata": {},
   "outputs": [],
   "source": [
    "tokens = []\n",
    "\n",
    "for doc in nlp.pipe(train['clean_list_tokenized_content'].astype('unicode').values, batch_size=50, n_threads=3):\n",
    "    if doc.is_parsed:\n",
    "        tokens.append([n.lemma_ for n in doc if n.is_stop == False and n.pos_ in ('NOUN', 'ADJ')])      \n",
    "    else:\n",
    "        tokens.append(None)\n",
    "\n",
    "train['content_NA'] = tokens  "
   ]
  },
  {
   "cell_type": "code",
   "execution_count": 105,
   "metadata": {},
   "outputs": [],
   "source": [
    "dictionary_NA = gensim.corpora.Dictionary(train['content_NA'])\n",
    "\n",
    "bow_corpus_NA = [dictionary_NA.doc2bow(doc) for doc in train['content_NA']]"
   ]
  },
  {
   "cell_type": "code",
   "execution_count": 106,
   "metadata": {},
   "outputs": [
    {
     "data": {
      "text/plain": [
       "[(0,\n",
       "  '0.016*\"brand\" + 0.015*\"report\" + 0.011*\"website\" + 0.009*\"revenue\" + 0.009*\"year\" + 0.007*\"digital\" + 0.007*\"software\" + 0.007*\"product\" + 0.006*\"strategy\" + 0.006*\"ecommerce\"'),\n",
       " (1,\n",
       "  '0.047*\"\\'\" + 0.031*\"quarter\" + 0.028*\"year\" + 0.025*\"sale\" + 0.021*\"net\" + 0.012*\"report\" + 0.011*\"comp\" + 0.010*\"fourth\" + 0.010*\"loss\" + 0.010*\"week\"'),\n",
       " (2,\n",
       "  '0.012*\"supply\" + 0.012*\"technology\" + 0.011*\"new\" + 0.011*\"inventory\" + 0.010*\"chain\" + 0.009*\"brand\" + 0.008*\"respondent\" + 0.007*\"year\" + 0.007*\"customer\" + 0.007*\"report\"')]"
      ]
     },
     "execution_count": 106,
     "metadata": {},
     "output_type": "execute_result"
    }
   ],
   "source": [
    "model3 = gensim.models.LdaModel(bow_corpus_NA, id2word=dictionary_NA, num_topics=3, passes=10, random_state=42)\n",
    "model3.print_topics()"
   ]
  },
  {
   "cell_type": "code",
   "execution_count": 107,
   "metadata": {},
   "outputs": [
    {
     "data": {
      "text/plain": [
       "[(0,\n",
       "  '0.018*\"brand\" + 0.012*\"report\" + 0.011*\"website\" + 0.011*\"revenue\" + 0.008*\"digital\" + 0.008*\"year\" + 0.008*\"product\" + 0.007*\"strategy\" + 0.007*\"software\" + 0.007*\"member\"'),\n",
       " (1,\n",
       "  '0.049*\"\\'\" + 0.034*\"quarter\" + 0.030*\"year\" + 0.027*\"sale\" + 0.023*\"net\" + 0.012*\"comp\" + 0.012*\"report\" + 0.011*\"fourth\" + 0.011*\"brand\" + 0.010*\"week\"'),\n",
       " (2,\n",
       "  '0.016*\"supply\" + 0.014*\"inventory\" + 0.013*\"chain\" + 0.013*\"new\" + 0.011*\"technology\" + 0.010*\"report\" + 0.009*\"chief\" + 0.009*\"ceo\" + 0.008*\"executive\" + 0.008*\"respondent\"'),\n",
       " (3,\n",
       "  '0.010*\"report\" + 0.009*\"fall\" + 0.009*\"\\'\" + 0.008*\"brand\" + 0.008*\"shopping\" + 0.008*\"digitalization\" + 0.008*\"boost\" + 0.007*\"year\" + 0.007*\"technology\" + 0.007*\"service\"')]"
      ]
     },
     "execution_count": 107,
     "metadata": {},
     "output_type": "execute_result"
    }
   ],
   "source": [
    "model4 = gensim.models.LdaModel(bow_corpus_NA, id2word=dictionary_NA, num_topics=4, passes=10, random_state=42)\n",
    "model4.print_topics()"
   ]
  },
  {
   "cell_type": "markdown",
   "metadata": {},
   "source": [
    "<h3>3. Running LDA - Using only Nouns</h3>"
   ]
  },
  {
   "cell_type": "code",
   "execution_count": 108,
   "metadata": {},
   "outputs": [],
   "source": [
    "tokens = []\n",
    "\n",
    "for doc in nlp.pipe(train['clean_list_tokenized_content'].astype('unicode').values, batch_size=50, n_threads=3):\n",
    "    if doc.is_parsed:\n",
    "        tokens.append([n.lemma_ for n in doc if n.is_stop == False and n.pos_ == \"NOUN\"])      \n",
    "    else:\n",
    "        tokens.append(None)\n",
    "\n",
    "train['content_NN'] = tokens                   "
   ]
  },
  {
   "cell_type": "code",
   "execution_count": 109,
   "metadata": {},
   "outputs": [],
   "source": [
    "dictionary_NN = gensim.corpora.Dictionary(train['content_NN'])\n",
    "\n",
    "bow_corpus_NN = [dictionary_NN.doc2bow(doc) for doc in train['content_NN']]"
   ]
  },
  {
   "cell_type": "code",
   "execution_count": 110,
   "metadata": {},
   "outputs": [
    {
     "data": {
      "text/plain": [
       "[(0,\n",
       "  '0.052*\"\\'\" + 0.034*\"quarter\" + 0.034*\"year\" + 0.027*\"sale\" + 0.023*\"net\" + 0.022*\"report\" + 0.013*\"fall\" + 0.013*\"week\" + 0.012*\"comp\" + 0.012*\"increase\"'),\n",
       " (1,\n",
       "  '0.014*\"brand\" + 0.014*\"inventory\" + 0.013*\"president\" + 0.011*\"ceo\" + 0.009*\"executive\" + 0.008*\"customer\" + 0.008*\"year\" + 0.008*\"vice\" + 0.008*\"report\" + 0.007*\"technology\"'),\n",
       " (2,\n",
       "  '0.018*\"supply\" + 0.016*\"reward\" + 0.016*\"program\" + 0.016*\"loyalty\" + 0.015*\"chain\" + 0.013*\"brand\" + 0.013*\"card\" + 0.011*\"technology\" + 0.010*\"respondent\" + 0.010*\"food\"')]"
      ]
     },
     "execution_count": 110,
     "metadata": {},
     "output_type": "execute_result"
    }
   ],
   "source": [
    "model5 = gensim.models.LdaModel(bow_corpus_NN, id2word=dictionary_NN, num_topics=3, passes=50, random_state=42)\n",
    "model5.print_topics()"
   ]
  },
  {
   "cell_type": "code",
   "execution_count": 111,
   "metadata": {},
   "outputs": [
    {
     "name": "stdout",
     "output_type": "stream",
     "text": [
      "\n",
      "Perplexity: -6.331609790412156\n",
      "\n",
      "Coherence Score:  0.4433278535196188\n"
     ]
    }
   ],
   "source": [
    "print('\\nPerplexity:',model5.log_perplexity(bow_corpus_NN))\n",
    "\n",
    "coherence_model_lda = CoherenceModel(model=model5, texts=train['content_NN'], dictionary=dictionary_NN, coherence='c_v')\n",
    "coherence_lda = coherence_model_lda.get_coherence()\n",
    "print('\\nCoherence Score: ', coherence_lda)"
   ]
  },
  {
   "cell_type": "code",
   "execution_count": 112,
   "metadata": {},
   "outputs": [
    {
     "data": {
      "text/plain": [
       "[(0,\n",
       "  '0.056*\"\\'\" + 0.037*\"quarter\" + 0.036*\"year\" + 0.030*\"sale\" + 0.025*\"net\" + 0.024*\"report\" + 0.014*\"fall\" + 0.014*\"week\" + 0.013*\"comp\" + 0.013*\"increase\"'),\n",
       " (1,\n",
       "  '0.019*\"brand\" + 0.013*\"customer\" + 0.012*\"year\" + 0.012*\"president\" + 0.010*\"inventory\" + 0.009*\"technology\" + 0.009*\"color\" + 0.009*\"\\'\" + 0.009*\"ceo\" + 0.008*\"lead\"'),\n",
       " (2,\n",
       "  '0.016*\"card\" + 0.014*\"food\" + 0.011*\"supply\" + 0.011*\"technology\" + 0.009*\"reward\" + 0.009*\"program\" + 0.009*\"loyalty\" + 0.009*\"member\" + 0.009*\"email\" + 0.009*\"point\"'),\n",
       " (3,\n",
       "  '0.019*\"survey\" + 0.017*\"supply\" + 0.017*\"respondent\" + 0.014*\"chain\" + 0.013*\"brand\" + 0.013*\"inventory\" + 0.011*\"executive\" + 0.011*\"president\" + 0.011*\"conduct\" + 0.010*\"board\"')]"
      ]
     },
     "execution_count": 112,
     "metadata": {},
     "output_type": "execute_result"
    }
   ],
   "source": [
    "model6 = gensim.models.LdaModel(bow_corpus_NN, id2word=dictionary_NN, num_topics=4, passes=50, random_state=42)\n",
    "model6.print_topics()"
   ]
  },
  {
   "cell_type": "code",
   "execution_count": 113,
   "metadata": {},
   "outputs": [
    {
     "name": "stdout",
     "output_type": "stream",
     "text": [
      "\n",
      "Perplexity: -6.345103350341143\n",
      "\n",
      "Coherence Score:  0.4356523469330349\n"
     ]
    }
   ],
   "source": [
    "print('\\nPerplexity:',model6.log_perplexity(bow_corpus_NN))\n",
    "\n",
    "coherence_model_lda = CoherenceModel(model=model6, texts=train['content_NN'], dictionary=dictionary_NN, coherence='c_v')\n",
    "coherence_lda = coherence_model_lda.get_coherence()\n",
    "print('\\nCoherence Score: ', coherence_lda)"
   ]
  },
  {
   "cell_type": "code",
   "execution_count": 114,
   "metadata": {},
   "outputs": [
    {
     "data": {
      "text/plain": [
       "[(0,\n",
       "  '0.025*\"report\" + 0.013*\"brand\" + 0.012*\"video\" + 0.010*\"year\" + 0.010*\"share\" + 0.009*\"day\" + 0.008*\"website\" + 0.008*\"poll\" + 0.008*\"view\" + 0.008*\"sticker\"'),\n",
       " (1,\n",
       "  '0.022*\"brand\" + 0.014*\"customer\" + 0.013*\"inventory\" + 0.011*\"product\" + 0.011*\"color\" + 0.010*\"technology\" + 0.010*\"location\" + 0.010*\"experience\" + 0.010*\"member\" + 0.009*\"program\"'),\n",
       " (2,\n",
       "  '0.017*\"card\" + 0.017*\"technology\" + 0.015*\"food\" + 0.014*\"supply\" + 0.012*\"industry\" + 0.011*\"chain\" + 0.011*\"launch\" + 0.010*\"website\" + 0.010*\"program\" + 0.010*\"point\"'),\n",
       " (3,\n",
       "  '0.024*\"survey\" + 0.022*\"respondent\" + 0.019*\"supply\" + 0.016*\"brand\" + 0.015*\"chain\" + 0.014*\"inventory\" + 0.012*\"conduct\" + 0.010*\"revenue\" + 0.010*\"program\" + 0.010*\"reward\"'),\n",
       " (4,\n",
       "  '0.073*\"\\'\" + 0.045*\"quarter\" + 0.042*\"year\" + 0.033*\"sale\" + 0.030*\"net\" + 0.021*\"report\" + 0.017*\"fall\" + 0.016*\"comp\" + 0.015*\"loss\" + 0.015*\"increase\"')]"
      ]
     },
     "execution_count": 114,
     "metadata": {},
     "output_type": "execute_result"
    }
   ],
   "source": [
    "model7 = gensim.models.LdaModel(bow_corpus_NN, id2word=dictionary_NN, num_topics=5, passes=50, random_state=42)\n",
    "model7.print_topics()"
   ]
  },
  {
   "cell_type": "code",
   "execution_count": 115,
   "metadata": {},
   "outputs": [
    {
     "name": "stdout",
     "output_type": "stream",
     "text": [
      "\n",
      "Perplexity: -6.319697048864377\n",
      "\n",
      "Coherence Score:  0.41779635351286776\n"
     ]
    }
   ],
   "source": [
    "print('\\nPerplexity:',model7.log_perplexity(bow_corpus_NN))\n",
    "\n",
    "coherence_model_lda = CoherenceModel(model=model7, texts=train['content_NN'], dictionary=dictionary_NN, coherence='c_v')\n",
    "coherence_lda = coherence_model_lda.get_coherence()\n",
    "print('\\nCoherence Score: ', coherence_lda)"
   ]
  },
  {
   "cell_type": "markdown",
   "metadata": {},
   "source": [
    "<b> Model-7 which uses only Nouns and having 5 topics gives better representation of articles.</b> \n",
    "\n",
    "We will use Model-7 to determine the topic for each article"
   ]
  },
  {
   "cell_type": "code",
   "execution_count": 116,
   "metadata": {},
   "outputs": [
    {
     "data": {
      "text/plain": [
       "[[(4, 0.9881705)],\n",
       " [(4, 0.9872629)],\n",
       " [(3, 0.9753664)],\n",
       " [(1, 0.98209023)],\n",
       " [(1, 0.85369915), (4, 0.12671894)],\n",
       " [(3, 0.9858564)],\n",
       " [(1, 0.98349607)],\n",
       " [(2, 0.925033), (4, 0.060903598)],\n",
       " [(4, 0.9859068)],\n",
       " [(4, 0.98776895)],\n",
       " [(4, 0.9709212)],\n",
       " [(1, 0.9835205)],\n",
       " [(0, 0.010355058),\n",
       "  (1, 0.010196938),\n",
       "  (2, 0.010056011),\n",
       "  (3, 0.010369176),\n",
       "  (4, 0.9590228)],\n",
       " [(4, 0.9803129)],\n",
       " [(4, 0.9835853)],\n",
       " [(2, 0.9722197)],\n",
       " [(4, 0.96998256)],\n",
       " [(2, 0.9820835)],\n",
       " [(4, 0.9845772)],\n",
       " [(2, 0.9802463)],\n",
       " [(1, 0.9855438)],\n",
       " [(1, 0.97879106)],\n",
       " [(4, 0.97555137)],\n",
       " [(2, 0.98630095)],\n",
       " [(4, 0.9860476)],\n",
       " [(0, 0.98648316)],\n",
       " [(3, 0.9886195)],\n",
       " [(0, 0.97537404)],\n",
       " [(0, 0.98580605)],\n",
       " [(3, 0.97817683)],\n",
       " [(1, 0.9678552)],\n",
       " [(4, 0.9801128)],\n",
       " [(1, 0.66518956), (4, 0.31588838)],\n",
       " [(3, 0.98278314)],\n",
       " [(1, 0.973666)],\n",
       " [(4, 0.9708403)],\n",
       " [(0, 0.9873854)],\n",
       " [(0, 0.9761789)],\n",
       " [(1, 0.5834946), (3, 0.39697617)],\n",
       " [(1, 0.98254484)],\n",
       " [(4, 0.98016965)],\n",
       " [(0, 0.9768838)],\n",
       " [(4, 0.98025376)],\n",
       " [(4, 0.9805665)],\n",
       " [(0, 0.011363872),\n",
       "  (1, 0.011274587),\n",
       "  (2, 0.28705484),\n",
       "  (3, 0.6788256),\n",
       "  (4, 0.011481084)],\n",
       " [(3, 0.9858277)],\n",
       " [(0, 0.97874844)],\n",
       " [(2, 0.635846), (4, 0.34816372)],\n",
       " [(0, 0.27948865), (4, 0.7053851)],\n",
       " [(0, 0.98581946)],\n",
       " [(1, 0.98207974)],\n",
       " [(1, 0.97288364)],\n",
       " [(1, 0.48659912), (2, 0.49897105)],\n",
       " [(3, 0.97964877)],\n",
       " [(4, 0.97686017)],\n",
       " [(4, 0.9799134)]]"
      ]
     },
     "execution_count": 116,
     "metadata": {},
     "output_type": "execute_result"
    }
   ],
   "source": [
    "train_prediction = model7[bow_corpus_NN]\n",
    "list([a for a in train_prediction])"
   ]
  },
  {
   "cell_type": "code",
   "execution_count": 117,
   "metadata": {},
   "outputs": [
    {
     "data": {
      "text/html": [
       "<div>\n",
       "<style scoped>\n",
       "    .dataframe tbody tr th:only-of-type {\n",
       "        vertical-align: middle;\n",
       "    }\n",
       "\n",
       "    .dataframe tbody tr th {\n",
       "        vertical-align: top;\n",
       "    }\n",
       "\n",
       "    .dataframe thead th {\n",
       "        text-align: right;\n",
       "    }\n",
       "</style>\n",
       "<table border=\"1\" class=\"dataframe\">\n",
       "  <thead>\n",
       "    <tr style=\"text-align: right;\">\n",
       "      <th></th>\n",
       "      <th>title</th>\n",
       "      <th>original_content</th>\n",
       "      <th>content</th>\n",
       "      <th>dominant_topic</th>\n",
       "      <th>contribution %</th>\n",
       "    </tr>\n",
       "    <tr>\n",
       "      <th>number</th>\n",
       "      <th></th>\n",
       "      <th></th>\n",
       "      <th></th>\n",
       "      <th></th>\n",
       "      <th></th>\n",
       "    </tr>\n",
       "  </thead>\n",
       "  <tbody>\n",
       "    <tr>\n",
       "      <th>Article 1</th>\n",
       "      <td>Pier 1 appoints interim CFO amid growing financial loss</td>\n",
       "      <td>\\n\\nPier 1 on Wednesday reported that fourth quarter net sales fell 19.5% to $412.5 million from $512.2 million in the year-ago quarter. Comp store sales in the quarter decreased 13.7%, which the ...</td>\n",
       "      <td>Pier on Wednesday reported that fourth quarter net sales fell to million from million in the yearago quarter Comp store sales in the quarter decreased which the company attributes partially to the...</td>\n",
       "      <td>4</td>\n",
       "      <td>0.99</td>\n",
       "    </tr>\n",
       "    <tr>\n",
       "      <th>Article 2</th>\n",
       "      <td>Family Dollar to close nearly 400 stores</td>\n",
       "      <td>\\nDollar Tree on Wednesday announced that up to 390 Family Dollar stores will close in 2019. The company closed 84 Family Dollar stores in the fourth quarter.\\nThe retailer also reported consolida...</td>\n",
       "      <td>Dollar Tree on Wednesday announced that up to Family Dollar stores will close in The company closed Family Dollar stores in the fourth quarter The retailer also reported consolidated net sales for...</td>\n",
       "      <td>4</td>\n",
       "      <td>0.99</td>\n",
       "    </tr>\n",
       "    <tr>\n",
       "      <th>Article 3</th>\n",
       "      <td>Having to share personal data turns consumers away from loyalty programs study says</td>\n",
       "      <td>\\nAccording to a new Harris Poll survey, 71% of Americans would be less likely to join a rewards program that collects personal information, such as address, account information and more, with 27%...</td>\n",
       "      <td>According to a new Harris Poll survey of Americans would be less likely to join a rewards program that collects personal information such as address account information and more with saying they w...</td>\n",
       "      <td>3</td>\n",
       "      <td>0.98</td>\n",
       "    </tr>\n",
       "    <tr>\n",
       "      <th>Article 4</th>\n",
       "      <td>Walgreens taps Narvar for online pickup returns in 8K stores</td>\n",
       "      <td>\\n\\np.p1 {margin: 0.0px 0.0px 35.0px 0.0px; line-height: 28.0px; font: 16.0px Helvetica; color: #2a2a2a; -webkit-text-stroke: #2a2a2a; background-color: #ffffff}\\r\\nspan.s1 {font-kerning: none}\\r\\...</td>\n",
       "      <td>Customer experience platform Narvar and Walgreens are working together to provide package pickup and returns at more than Walgreens locations that have FedEx OnSite services Its the first offering...</td>\n",
       "      <td>1</td>\n",
       "      <td>0.98</td>\n",
       "    </tr>\n",
       "    <tr>\n",
       "      <th>Article 5</th>\n",
       "      <td>TechStyle claims more than 5M active members</td>\n",
       "      <td>\\n\\nTechStyle Fashion Group, which operates ShoeDazzle, JustFab, FabKids, Fabletics and Savage X Fenty,  now has more than five million active members, according to a TechStyle press release.\\n\\n\\...</td>\n",
       "      <td>TechStyle Fashion Group which operates ShoeDazzle JustFab FabKids Fabletics and Savage X Fenty now has more than five million active members according to a TechStyle press release Program members ...</td>\n",
       "      <td>1</td>\n",
       "      <td>0.85</td>\n",
       "    </tr>\n",
       "  </tbody>\n",
       "</table>\n",
       "</div>"
      ],
      "text/plain": [
       "                                                                                         title  \\\n",
       "number                                                                                           \n",
       "Article 1                              Pier 1 appoints interim CFO amid growing financial loss   \n",
       "Article 2                                             Family Dollar to close nearly 400 stores   \n",
       "Article 3  Having to share personal data turns consumers away from loyalty programs study says   \n",
       "Article 4                         Walgreens taps Narvar for online pickup returns in 8K stores   \n",
       "Article 5                                         TechStyle claims more than 5M active members   \n",
       "\n",
       "                                                                                                                                                                                                  original_content  \\\n",
       "number                                                                                                                                                                                                               \n",
       "Article 1  \\n\\nPier 1 on Wednesday reported that fourth quarter net sales fell 19.5% to $412.5 million from $512.2 million in the year-ago quarter. Comp store sales in the quarter decreased 13.7%, which the ...   \n",
       "Article 2  \\nDollar Tree on Wednesday announced that up to 390 Family Dollar stores will close in 2019. The company closed 84 Family Dollar stores in the fourth quarter.\\nThe retailer also reported consolida...   \n",
       "Article 3  \\nAccording to a new Harris Poll survey, 71% of Americans would be less likely to join a rewards program that collects personal information, such as address, account information and more, with 27%...   \n",
       "Article 4  \\n\\np.p1 {margin: 0.0px 0.0px 35.0px 0.0px; line-height: 28.0px; font: 16.0px Helvetica; color: #2a2a2a; -webkit-text-stroke: #2a2a2a; background-color: #ffffff}\\r\\nspan.s1 {font-kerning: none}\\r\\...   \n",
       "Article 5  \\n\\nTechStyle Fashion Group, which operates ShoeDazzle, JustFab, FabKids, Fabletics and Savage X Fenty,  now has more than five million active members, according to a TechStyle press release.\\n\\n\\...   \n",
       "\n",
       "                                                                                                                                                                                                           content  \\\n",
       "number                                                                                                                                                                                                               \n",
       "Article 1  Pier on Wednesday reported that fourth quarter net sales fell to million from million in the yearago quarter Comp store sales in the quarter decreased which the company attributes partially to the...   \n",
       "Article 2  Dollar Tree on Wednesday announced that up to Family Dollar stores will close in The company closed Family Dollar stores in the fourth quarter The retailer also reported consolidated net sales for...   \n",
       "Article 3  According to a new Harris Poll survey of Americans would be less likely to join a rewards program that collects personal information such as address account information and more with saying they w...   \n",
       "Article 4  Customer experience platform Narvar and Walgreens are working together to provide package pickup and returns at more than Walgreens locations that have FedEx OnSite services Its the first offering...   \n",
       "Article 5  TechStyle Fashion Group which operates ShoeDazzle JustFab FabKids Fabletics and Savage X Fenty now has more than five million active members according to a TechStyle press release Program members ...   \n",
       "\n",
       "           dominant_topic  contribution %  \n",
       "number                                     \n",
       "Article 1               4            0.99  \n",
       "Article 2               4            0.99  \n",
       "Article 3               3            0.98  \n",
       "Article 4               1            0.98  \n",
       "Article 5               1            0.85  "
      ]
     },
     "execution_count": 117,
     "metadata": {},
     "output_type": "execute_result"
    }
   ],
   "source": [
    "#Identify the dominant topic in each article \n",
    "def format_topics_sentences(ldamodel, corpus):\n",
    "    sent_topics_df = pd.DataFrame()\n",
    "\n",
    "    # Get main topic in each document\n",
    "    for i, row in enumerate(ldamodel[corpus]):\n",
    "        row = sorted(row, key=lambda x: (x[1]), reverse=True)\n",
    "        # Get the Dominant topic and Perc Contribution for each document\n",
    "        for j, (topic_num, prop_topic) in enumerate(row):\n",
    "            if j == 0:  \n",
    "                wp = ldamodel.show_topic(topic_num)\n",
    "                sent_topics_df = sent_topics_df.append(pd.Series([topic_num, round(prop_topic,2)]), ignore_index=True)\n",
    "            else:\n",
    "                break\n",
    "    \n",
    "    sent_topics_df.columns = ['dominant_topic', 'contribution %']\n",
    "    return(sent_topics_df)\n",
    "\n",
    "train.reset_index(inplace = True)\n",
    "train_topic_model = pd.concat([train['number'], train['title'], train['original_content'],train['content'], \n",
    "                               format_topics_sentences(model7, bow_corpus_NN)], axis = 1)\n",
    "train_topic_model['dominant_topic'] = train_topic_model['dominant_topic'].astype('int64')\n",
    "train_topic_model.set_index('number', inplace=True)\n",
    "train_topic_model = train_topic_model[['title', 'original_content', 'content', 'dominant_topic', 'contribution %']]\n",
    "\n",
    "train_topic_model.head()"
   ]
  },
  {
   "cell_type": "code",
   "execution_count": 118,
   "metadata": {},
   "outputs": [
    {
     "data": {
      "text/html": [
       "<div>\n",
       "<style scoped>\n",
       "    .dataframe tbody tr th:only-of-type {\n",
       "        vertical-align: middle;\n",
       "    }\n",
       "\n",
       "    .dataframe tbody tr th {\n",
       "        vertical-align: top;\n",
       "    }\n",
       "\n",
       "    .dataframe thead th {\n",
       "        text-align: right;\n",
       "    }\n",
       "</style>\n",
       "<table border=\"1\" class=\"dataframe\">\n",
       "  <thead>\n",
       "    <tr style=\"text-align: right;\">\n",
       "      <th></th>\n",
       "      <th>title</th>\n",
       "      <th>original_content</th>\n",
       "      <th>content</th>\n",
       "      <th>dominant_topic</th>\n",
       "      <th>contribution %</th>\n",
       "      <th>topic</th>\n",
       "    </tr>\n",
       "    <tr>\n",
       "      <th>number</th>\n",
       "      <th></th>\n",
       "      <th></th>\n",
       "      <th></th>\n",
       "      <th></th>\n",
       "      <th></th>\n",
       "      <th></th>\n",
       "    </tr>\n",
       "  </thead>\n",
       "  <tbody>\n",
       "    <tr>\n",
       "      <th>Article 1</th>\n",
       "      <td>Pier 1 appoints interim CFO amid growing financial loss</td>\n",
       "      <td>\\n\\nPier 1 on Wednesday reported that fourth quarter net sales fell 19.5% to $412.5 million from $512.2 million in the year-ago quarter. Comp store sales in the quarter decreased 13.7%, which the ...</td>\n",
       "      <td>Pier on Wednesday reported that fourth quarter net sales fell to million from million in the yearago quarter Comp store sales in the quarter decreased which the company attributes partially to the...</td>\n",
       "      <td>4</td>\n",
       "      <td>0.99</td>\n",
       "      <td>Supply Chain/Management changes</td>\n",
       "    </tr>\n",
       "    <tr>\n",
       "      <th>Article 2</th>\n",
       "      <td>Family Dollar to close nearly 400 stores</td>\n",
       "      <td>\\nDollar Tree on Wednesday announced that up to 390 Family Dollar stores will close in 2019. The company closed 84 Family Dollar stores in the fourth quarter.\\nThe retailer also reported consolida...</td>\n",
       "      <td>Dollar Tree on Wednesday announced that up to Family Dollar stores will close in The company closed Family Dollar stores in the fourth quarter The retailer also reported consolidated net sales for...</td>\n",
       "      <td>4</td>\n",
       "      <td>0.99</td>\n",
       "      <td>Supply Chain/Management changes</td>\n",
       "    </tr>\n",
       "    <tr>\n",
       "      <th>Article 3</th>\n",
       "      <td>Having to share personal data turns consumers away from loyalty programs study says</td>\n",
       "      <td>\\nAccording to a new Harris Poll survey, 71% of Americans would be less likely to join a rewards program that collects personal information, such as address, account information and more, with 27%...</td>\n",
       "      <td>According to a new Harris Poll survey of Americans would be less likely to join a rewards program that collects personal information such as address account information and more with saying they w...</td>\n",
       "      <td>3</td>\n",
       "      <td>0.98</td>\n",
       "      <td>Loyalty Program/Marketing</td>\n",
       "    </tr>\n",
       "    <tr>\n",
       "      <th>Article 4</th>\n",
       "      <td>Walgreens taps Narvar for online pickup returns in 8K stores</td>\n",
       "      <td>\\n\\np.p1 {margin: 0.0px 0.0px 35.0px 0.0px; line-height: 28.0px; font: 16.0px Helvetica; color: #2a2a2a; -webkit-text-stroke: #2a2a2a; background-color: #ffffff}\\r\\nspan.s1 {font-kerning: none}\\r\\...</td>\n",
       "      <td>Customer experience platform Narvar and Walgreens are working together to provide package pickup and returns at more than Walgreens locations that have FedEx OnSite services Its the first offering...</td>\n",
       "      <td>1</td>\n",
       "      <td>0.98</td>\n",
       "      <td>Techonology/Digitilization</td>\n",
       "    </tr>\n",
       "    <tr>\n",
       "      <th>Article 5</th>\n",
       "      <td>TechStyle claims more than 5M active members</td>\n",
       "      <td>\\n\\nTechStyle Fashion Group, which operates ShoeDazzle, JustFab, FabKids, Fabletics and Savage X Fenty,  now has more than five million active members, according to a TechStyle press release.\\n\\n\\...</td>\n",
       "      <td>TechStyle Fashion Group which operates ShoeDazzle JustFab FabKids Fabletics and Savage X Fenty now has more than five million active members according to a TechStyle press release Program members ...</td>\n",
       "      <td>1</td>\n",
       "      <td>0.85</td>\n",
       "      <td>Techonology/Digitilization</td>\n",
       "    </tr>\n",
       "  </tbody>\n",
       "</table>\n",
       "</div>"
      ],
      "text/plain": [
       "                                                                                         title  \\\n",
       "number                                                                                           \n",
       "Article 1                              Pier 1 appoints interim CFO amid growing financial loss   \n",
       "Article 2                                             Family Dollar to close nearly 400 stores   \n",
       "Article 3  Having to share personal data turns consumers away from loyalty programs study says   \n",
       "Article 4                         Walgreens taps Narvar for online pickup returns in 8K stores   \n",
       "Article 5                                         TechStyle claims more than 5M active members   \n",
       "\n",
       "                                                                                                                                                                                                  original_content  \\\n",
       "number                                                                                                                                                                                                               \n",
       "Article 1  \\n\\nPier 1 on Wednesday reported that fourth quarter net sales fell 19.5% to $412.5 million from $512.2 million in the year-ago quarter. Comp store sales in the quarter decreased 13.7%, which the ...   \n",
       "Article 2  \\nDollar Tree on Wednesday announced that up to 390 Family Dollar stores will close in 2019. The company closed 84 Family Dollar stores in the fourth quarter.\\nThe retailer also reported consolida...   \n",
       "Article 3  \\nAccording to a new Harris Poll survey, 71% of Americans would be less likely to join a rewards program that collects personal information, such as address, account information and more, with 27%...   \n",
       "Article 4  \\n\\np.p1 {margin: 0.0px 0.0px 35.0px 0.0px; line-height: 28.0px; font: 16.0px Helvetica; color: #2a2a2a; -webkit-text-stroke: #2a2a2a; background-color: #ffffff}\\r\\nspan.s1 {font-kerning: none}\\r\\...   \n",
       "Article 5  \\n\\nTechStyle Fashion Group, which operates ShoeDazzle, JustFab, FabKids, Fabletics and Savage X Fenty,  now has more than five million active members, according to a TechStyle press release.\\n\\n\\...   \n",
       "\n",
       "                                                                                                                                                                                                           content  \\\n",
       "number                                                                                                                                                                                                               \n",
       "Article 1  Pier on Wednesday reported that fourth quarter net sales fell to million from million in the yearago quarter Comp store sales in the quarter decreased which the company attributes partially to the...   \n",
       "Article 2  Dollar Tree on Wednesday announced that up to Family Dollar stores will close in The company closed Family Dollar stores in the fourth quarter The retailer also reported consolidated net sales for...   \n",
       "Article 3  According to a new Harris Poll survey of Americans would be less likely to join a rewards program that collects personal information such as address account information and more with saying they w...   \n",
       "Article 4  Customer experience platform Narvar and Walgreens are working together to provide package pickup and returns at more than Walgreens locations that have FedEx OnSite services Its the first offering...   \n",
       "Article 5  TechStyle Fashion Group which operates ShoeDazzle JustFab FabKids Fabletics and Savage X Fenty now has more than five million active members according to a TechStyle press release Program members ...   \n",
       "\n",
       "           dominant_topic  contribution %                            topic  \n",
       "number                                                                      \n",
       "Article 1               4            0.99  Supply Chain/Management changes  \n",
       "Article 2               4            0.99  Supply Chain/Management changes  \n",
       "Article 3               3            0.98        Loyalty Program/Marketing  \n",
       "Article 4               1            0.98       Techonology/Digitilization  \n",
       "Article 5               1            0.85       Techonology/Digitilization  "
      ]
     },
     "execution_count": 118,
     "metadata": {},
     "output_type": "execute_result"
    }
   ],
   "source": [
    "#Assigning topic names and creating a new column\n",
    "def topic(x):\n",
    "    if x['dominant_topic'] == 4:\n",
    "        return 'Supply Chain/Management changes'\n",
    "    elif x['dominant_topic'] == 3:\n",
    "        return 'Loyalty Program/Marketing'\n",
    "    elif (x['dominant_topic'] == 2) | (x['dominant_topic'] == 1):\n",
    "        return 'Techonology/Digitilization'\n",
    "    else:\n",
    "        return 'Quaterly news/Press release'\n",
    "    \n",
    "train_topic_model['topic'] = train_topic_model.apply(topic, axis = 1)\n",
    "train_topic_model.head()"
   ]
  },
  {
   "cell_type": "code",
   "execution_count": 119,
   "metadata": {},
   "outputs": [],
   "source": [
    "#pyLDAvis.enable_notebook()\n",
    "#pyLDAvis.gensim.prepare(model7, bow_corpus_NN, dictionary_NN)"
   ]
  },
  {
   "cell_type": "code",
   "execution_count": 120,
   "metadata": {
    "scrolled": true
   },
   "outputs": [],
   "source": [
    "train_topic_model = train_topic_model[['title', 'original_content', 'content', 'topic']]\n",
    "train_topic_model.to_csv(\"Data - Text Classification.csv\")"
   ]
  },
  {
   "cell_type": "code",
   "execution_count": null,
   "metadata": {},
   "outputs": [],
   "source": []
  }
 ],
 "metadata": {
  "kernelspec": {
   "display_name": "Python 3",
   "language": "python",
   "name": "python3"
  },
  "language_info": {
   "codemirror_mode": {
    "name": "ipython",
    "version": 3
   },
   "file_extension": ".py",
   "mimetype": "text/x-python",
   "name": "python",
   "nbconvert_exporter": "python",
   "pygments_lexer": "ipython3",
   "version": "3.6.5"
  }
 },
 "nbformat": 4,
 "nbformat_minor": 2
}
